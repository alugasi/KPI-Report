{
 "cells": [
  {
   "cell_type": "code",
   "execution_count": 5,
   "metadata": {},
   "outputs": [],
   "source": [
    "#include json and os librareries\n",
    "import json\n",
    "import time\n",
    "import pandas as pd\n",
    "\n",
    "####Globals:\n",
    "JSON_DIR=\"ExtractTestsResults/JsonTestsFolders/RFC2544/rfc2544-\"\n",
    "\n",
    "\n",
    "############################################################################\n",
    "#                                                                          #\n",
    "#                    #################################                     #\n",
    "#                    #      Helper functions         #                     #\n",
    "#                    #################################                     #\n",
    "#                                                                          #\n",
    "############################################################################\n",
    "\n",
    "def create_json(results_dict:dict, JSON_DIR:str):\n",
    "    #create json object\n",
    "    #add uniuqe id to file name (using unix time)\n",
    "    timestamp = str(time.time()).replace('.', '')\n",
    "    # open a file and write the JSON data to it\n",
    "    with open(JSON_DIR+timestamp+\".json\", \"w\") as json_file:\n",
    "        json.dump(results_dict, json_file)\n",
    "\n",
    "\n",
    "def format_rfc_test_result(row):\n",
    "    \"\"\"\n",
    "    extract all test fields of a given row.\\n\n",
    "    params:\n",
    "        -row(df row)-rfc test result row\n",
    "    returns: a dict that represent 1 test result\n",
    "    \"\"\"\n",
    "    results_dict = {}\n",
    "    results_dict[\"ocp_version\"] = row[\"Version\"]\n",
    "    results_dict[\"ocp_build\"] = row[\"OCP Version\"]\n",
    "    results_dict[\"test_type\"] = \"rfc2544\"\n",
    "    results_dict[\"node_name\"] = row[\"Cluster\"]\n",
    "    results_dict[\"histogram\"] = row[\"histogram\"]\n",
    "    results_dict[\"kernel\"] = row[\"Kernel\"]\n",
    "    results_dict[\"duration\"] = row[\"Duration\"]\n",
    "    results_dict[\"nic\"] = row[\"NIC\"]\n",
    "    results_dict[\"frame_size\"] = row[\"Frame size\"]\n",
    "    results_dict[\"throughput\"] = row[\"Throughput\"]\n",
    "    results_dict[\"min_delay\"] = row[\"Min Delay\"]\n",
    "    results_dict[\"max_delay\"] = row[\"Max Delay\"]\n",
    "    results_dict[\"avg_delay\"] = row[\"Avg Delay\"]\n",
    "    \n",
    "    return results_dict\n",
    "    "
   ]
  },
  {
   "cell_type": "code",
   "execution_count": 10,
   "metadata": {},
   "outputs": [],
   "source": [
    "rfc_df = pd.read_csv(\"RAN QE Networking KPI - rfc2544-informal.csv\").fillna(\"\")\n",
    "rfc_df[\"Version\"] = rfc_df[\"Version\"].astype(\"str\")\n",
    "rfc_df.loc[rfc_df[\"Version\"] == \"4.1\", \"Version\"] = \"4.10\""
   ]
  },
  {
   "cell_type": "code",
   "execution_count": 11,
   "metadata": {},
   "outputs": [
    {
     "name": "stdout",
     "output_type": "stream",
     "text": [
      "creating json file for 4.10.6\n",
      "creating json file for 4.10.23\n",
      "creating json file for 4.10.8\n",
      "creating json file for 4.11.0-rc.1\n",
      "creating json file for 4.11.6\n",
      "creating json file for 4.12.0-0.nightly-2022-10-25-210451\n",
      "creating json file for 4.12.0-rc.1\n",
      "creating json file for 4.12.0-rc.5\n",
      "creating json file for 4.12.0-rc.7\n",
      "creating json file for 4.12.0-rc.8\n",
      "creating json file for 4.13.0-ec.3\n",
      "creating json file for 4.12.6\n"
     ]
    }
   ],
   "source": [
    "# create json files from each test record\n",
    "for _, row in rfc_df.iterrows():\n",
    "    results_dict = format_rfc_test_result(row=row)\n",
    "    print(\"creating json file for {}\".format(results_dict[\"ocp_build\"]))\n",
    "    create_json(results_dict=results_dict, JSON_DIR=JSON_DIR)"
   ]
  }
 ],
 "metadata": {
  "kernelspec": {
   "display_name": "Python 3.10.6 ('data': venv)",
   "language": "python",
   "name": "python3"
  },
  "language_info": {
   "codemirror_mode": {
    "name": "ipython",
    "version": 3
   },
   "file_extension": ".py",
   "mimetype": "text/x-python",
   "name": "python",
   "nbconvert_exporter": "python",
   "pygments_lexer": "ipython3",
   "version": "3.10.6"
  },
  "orig_nbformat": 4,
  "vscode": {
   "interpreter": {
    "hash": "36996c97f3a513c7539113157ff2a07191b199a8c1a7349bbd76d49dcb155f46"
   }
  }
 },
 "nbformat": 4,
 "nbformat_minor": 2
}
