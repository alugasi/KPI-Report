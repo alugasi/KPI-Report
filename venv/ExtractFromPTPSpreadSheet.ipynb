{
 "cells": [
  {
   "cell_type": "code",
   "execution_count": 15,
   "metadata": {},
   "outputs": [],
   "source": [
    "#include json and os librareries\n",
    "import json\n",
    "import time\n",
    "import pandas as pd\n",
    "import os\n",
    "from subprocess import run\n",
    "\n",
    "####Globals:\n",
    "JSON_DIR=\"ExtractTestsResults/JsonTestsFolders/PTP/ptp-\"\n",
    "\n",
    "############################################################################\n",
    "#                                                                          #\n",
    "#                    #################################                     #\n",
    "#                    #      Helper functions         #                     #\n",
    "#                    #################################                     #\n",
    "#                                                                          #\n",
    "############################################################################\n",
    "\n",
    "def create_json(results_dict:dict, JSON_DIR:str):\n",
    "    #create json object\n",
    "    #add uniuqe id to file name (using unix time)\n",
    "    timestamp = str(time.time()).replace('.', '')\n",
    "    # open a file and write the JSON data to it\n",
    "    with open(JSON_DIR+timestamp+\".json\", \"w\") as json_file:\n",
    "        json.dump(results_dict, json_file)\n",
    "\n",
    "def list_files(path):\n",
    "    \"\"\"\n",
    "    Return a list of all json file names in the specified folder.\n",
    "    \"\"\"\n",
    "    files = []\n",
    "    for file in os.listdir(path):\n",
    "        if os.path.isfile(os.path.join(path, file)):\n",
    "            files.append(file)\n",
    "    return files\n",
    "\n",
    "def format_ptp_test_result(row):\n",
    "    \"\"\"\n",
    "    extract all test fields of a given row.\\n\n",
    "    params:\n",
    "        -row(df row)-ptp test result row\n",
    "    returns: a dict that represent 1 test result\n",
    "    \"\"\"\n",
    "    results_dict = {}\n",
    "    results_dict[\"ocp_version\"] = row[\"Version\"]\n",
    "    results_dict[\"ocp_build\"] = row[\"OCP Version\"]\n",
    "    results_dict[\"test_type\"] = \"ptp\"\n",
    "    results_dict[\"node_name\"] = row[\"Cluster\"]\n",
    "    results_dict[\"config\"] = row[\"Config\"]\n",
    "    results_dict[\"kernel\"] = row[\"Kernel\"]\n",
    "    results_dict[\"duration\"] = row[\"Duration\"]\n",
    "    results_dict[\"nic\"] = row[\"NIC\"]\n",
    "    results_dict[\"ptp4l_avg_offset\"] = row[\"ptp4l_avg_offset\"]\n",
    "    results_dict[\"ptp4l_max_offset\"] = row[\"ptp4l_max_offset\"]\n",
    "    results_dict[\"ptp4l_min_offset\"] = row[\"ptp4l_min_offset\"]\n",
    "    results_dict[\"phc2sys_avg_offset\"] = row[\"phc2sys_avg_offset\"]\n",
    "    results_dict[\"phc2sys_max_offset\"] = row[\"phc2sys_max_offset\"]\n",
    "    results_dict[\"phc2sys_min_offset\"] = row[\"phc2sys_min_offset\"]\n",
    "    \n",
    "    return results_dict\n",
    "\n"
   ]
  },
  {
   "cell_type": "code",
   "execution_count": 8,
   "metadata": {},
   "outputs": [],
   "source": [
    "ptp_df = pd.read_csv(\"RAN QE Networking KPI - ptp-informal.csv\").fillna(\"\")\n",
    "ptp_df[\"Version\"] = ptp_df[\"Version\"].astype(\"str\")\n",
    "ptp_df.loc[ptp_df[\"Version\"] == \"4.1\", \"Version\"] = \"4.10\""
   ]
  },
  {
   "cell_type": "code",
   "execution_count": 10,
   "metadata": {},
   "outputs": [
    {
     "name": "stdout",
     "output_type": "stream",
     "text": [
      "creating json file for 4.9.44\n",
      "creating json file for 4.10.23\n",
      "creating json file for 4.10.6\n",
      "creating json file for 4.11.0-rc.7\n",
      "creating json file for 4.11.6\n",
      "creating json file for 4.12.0-0.nightly 2022-10-25-121937\n",
      "creating json file for 4.12.0-rc.1\n",
      "creating json file for 4.12.0-rc.1\n",
      "creating json file for 4.12.0-rc.1\n",
      "creating json file for 4.12.0-rc.5\n",
      "creating json file for 4.12.0-rc.6\n",
      "creating json file for 4.12.0-rc.7\n",
      "creating json file for 4.12.0-rc.8\n",
      "creating json file for 4.13.0-ec.3\n",
      "creating json file for 4.13.0-ec.3\n",
      "creating json file for 4.13.0-0.nightly-2023-02-27-101545\n",
      "creating json file for 4.12.6\n",
      "creating json file for 4.12.6\n",
      "creating json file for 4.13.0-0.nightly-2023-03-10-165006\n"
     ]
    }
   ],
   "source": [
    "# create json files from each test record\n",
    "for _, row in ptp_df.iterrows():\n",
    "    results_dict = format_ptp_test_result(row=row)\n",
    "    print(\"creating json file for {}\".format(results_dict[\"ocp_build\"]))\n",
    "    create_json(results_dict=results_dict, JSON_DIR=JSON_DIR)"
   ]
  },
  {
   "cell_type": "code",
   "execution_count": 18,
   "metadata": {},
   "outputs": [
    {
     "name": "stdout",
     "output_type": "stream",
     "text": [
      "pushing ptp-16787257106553953.json to splunk\n"
     ]
    },
    {
     "name": "stderr",
     "output_type": "stream",
     "text": [
      "/home/alugasi/tasks/google data studio/code/data/lib/python3.10/site-packages/urllib3/connectionpool.py:1045: InsecureRequestWarning: Unverified HTTPS request is being made to host 'splunk-hec.prod.utility-us-east-2.redhat.com'. Adding certificate verification is strongly advised. See: https://urllib3.readthedocs.io/en/1.26.x/advanced-usage.html#ssl-warnings\n",
      "  warnings.warn(\n"
     ]
    },
    {
     "name": "stdout",
     "output_type": "stream",
     "text": [
      "(200, '{\"text\":\"Success\",\"code\":0}', {'Date': 'Mon, 13 Mar 2023 17:16:59 GMT', 'Content-Type': 'application/json; charset=UTF-8', 'Content-Length': '27', 'Connection': 'keep-alive', 'Set-Cookie': 'AWSALB=PEL41F1BpVKWrKIn3K+xxy+mR8SNSQMOi2Bogwqm0rrxiaThOqo1ag9icz7WlQxGebKq2NAU3SHyZFbYMWo8/h4euRULX/loxsFGZ0kUQfW1cRLerly+VxU6X3Ci; Expires=Mon, 20 Mar 2023 17:16:59 GMT; Path=/, AWSALBCORS=PEL41F1BpVKWrKIn3K+xxy+mR8SNSQMOi2Bogwqm0rrxiaThOqo1ag9icz7WlQxGebKq2NAU3SHyZFbYMWo8/h4euRULX/loxsFGZ0kUQfW1cRLerly+VxU6X3Ci; Expires=Mon, 20 Mar 2023 17:16:59 GMT; Path=/; SameSite=None; Secure', 'X-Content-Type-Options': 'nosniff', 'Vary': 'Authorization', 'X-Frame-Options': 'SAMEORIGIN', 'Server': 'Splunkd'})\n",
      "pushing ptp-16787257106560915.json to splunk\n"
     ]
    },
    {
     "name": "stderr",
     "output_type": "stream",
     "text": [
      "/home/alugasi/tasks/google data studio/code/data/lib/python3.10/site-packages/urllib3/connectionpool.py:1045: InsecureRequestWarning: Unverified HTTPS request is being made to host 'splunk-hec.prod.utility-us-east-2.redhat.com'. Adding certificate verification is strongly advised. See: https://urllib3.readthedocs.io/en/1.26.x/advanced-usage.html#ssl-warnings\n",
      "  warnings.warn(\n"
     ]
    },
    {
     "name": "stdout",
     "output_type": "stream",
     "text": [
      "(200, '{\"text\":\"Success\",\"code\":0}', {'Date': 'Mon, 13 Mar 2023 17:17:00 GMT', 'Content-Type': 'application/json; charset=UTF-8', 'Content-Length': '27', 'Connection': 'keep-alive', 'Set-Cookie': 'AWSALB=gD2NEUH0YahuRK8CbV7kuX+YLkpZJ80e77c2S40TFhLTJJzKoIigkAUoOFaMaka7W/hKgoyifDzQaAuY5J6QTSKDGar1OU55EH6PRLEFM2Wsr5j1KdiPClMtXM2h; Expires=Mon, 20 Mar 2023 17:17:00 GMT; Path=/, AWSALBCORS=gD2NEUH0YahuRK8CbV7kuX+YLkpZJ80e77c2S40TFhLTJJzKoIigkAUoOFaMaka7W/hKgoyifDzQaAuY5J6QTSKDGar1OU55EH6PRLEFM2Wsr5j1KdiPClMtXM2h; Expires=Mon, 20 Mar 2023 17:17:00 GMT; Path=/; SameSite=None; Secure', 'X-Content-Type-Options': 'nosniff', 'Vary': 'Authorization', 'X-Frame-Options': 'SAMEORIGIN', 'Server': 'Splunkd'})\n",
      "pushing ptp-1678725710656325.json to splunk\n"
     ]
    },
    {
     "name": "stderr",
     "output_type": "stream",
     "text": [
      "/home/alugasi/tasks/google data studio/code/data/lib/python3.10/site-packages/urllib3/connectionpool.py:1045: InsecureRequestWarning: Unverified HTTPS request is being made to host 'splunk-hec.prod.utility-us-east-2.redhat.com'. Adding certificate verification is strongly advised. See: https://urllib3.readthedocs.io/en/1.26.x/advanced-usage.html#ssl-warnings\n",
      "  warnings.warn(\n"
     ]
    },
    {
     "name": "stdout",
     "output_type": "stream",
     "text": [
      "(200, '{\"text\":\"Success\",\"code\":0}', {'Date': 'Mon, 13 Mar 2023 17:17:01 GMT', 'Content-Type': 'application/json; charset=UTF-8', 'Content-Length': '27', 'Connection': 'keep-alive', 'Set-Cookie': 'AWSALB=w+gXYOYknqASB+NdseQXR8J9GN4fEP/HXrx3lHRp8ZWzojf7IwvYhCgzNfMqM3flDjtNDAu3Yy8A2eqMVLzx0Eud326Ejqem9E2rxo0ESl1wIWH4TdEApYGNXZ0R; Expires=Mon, 20 Mar 2023 17:17:01 GMT; Path=/, AWSALBCORS=w+gXYOYknqASB+NdseQXR8J9GN4fEP/HXrx3lHRp8ZWzojf7IwvYhCgzNfMqM3flDjtNDAu3Yy8A2eqMVLzx0Eud326Ejqem9E2rxo0ESl1wIWH4TdEApYGNXZ0R; Expires=Mon, 20 Mar 2023 17:17:01 GMT; Path=/; SameSite=None; Secure', 'X-Content-Type-Options': 'nosniff', 'Vary': 'Authorization', 'X-Frame-Options': 'SAMEORIGIN', 'Server': 'Splunkd'})\n",
      "pushing ptp-1678725710656494.json to splunk\n"
     ]
    },
    {
     "name": "stderr",
     "output_type": "stream",
     "text": [
      "/home/alugasi/tasks/google data studio/code/data/lib/python3.10/site-packages/urllib3/connectionpool.py:1045: InsecureRequestWarning: Unverified HTTPS request is being made to host 'splunk-hec.prod.utility-us-east-2.redhat.com'. Adding certificate verification is strongly advised. See: https://urllib3.readthedocs.io/en/1.26.x/advanced-usage.html#ssl-warnings\n",
      "  warnings.warn(\n"
     ]
    },
    {
     "name": "stdout",
     "output_type": "stream",
     "text": [
      "(200, '{\"text\":\"Success\",\"code\":0}', {'Date': 'Mon, 13 Mar 2023 17:17:02 GMT', 'Content-Type': 'application/json; charset=UTF-8', 'Content-Length': '27', 'Connection': 'keep-alive', 'Set-Cookie': 'AWSALB=WycSLeQmVK5kWF/HIsI3XduElyfiKfWeFzTSrA4xJecHDN+OLFS6l+UtE1ysC44Jmy/ZDVLvuJ7CZf8+/FxdD5AdzRqGN5tfHKddc4eMXvmPbrHE65zb2UheQ09K; Expires=Mon, 20 Mar 2023 17:17:02 GMT; Path=/, AWSALBCORS=WycSLeQmVK5kWF/HIsI3XduElyfiKfWeFzTSrA4xJecHDN+OLFS6l+UtE1ysC44Jmy/ZDVLvuJ7CZf8+/FxdD5AdzRqGN5tfHKddc4eMXvmPbrHE65zb2UheQ09K; Expires=Mon, 20 Mar 2023 17:17:02 GMT; Path=/; SameSite=None; Secure', 'X-Content-Type-Options': 'nosniff', 'Vary': 'Authorization', 'X-Frame-Options': 'SAMEORIGIN', 'Server': 'Splunkd'})\n",
      "pushing ptp-16787257106566563.json to splunk\n"
     ]
    },
    {
     "name": "stderr",
     "output_type": "stream",
     "text": [
      "/home/alugasi/tasks/google data studio/code/data/lib/python3.10/site-packages/urllib3/connectionpool.py:1045: InsecureRequestWarning: Unverified HTTPS request is being made to host 'splunk-hec.prod.utility-us-east-2.redhat.com'. Adding certificate verification is strongly advised. See: https://urllib3.readthedocs.io/en/1.26.x/advanced-usage.html#ssl-warnings\n",
      "  warnings.warn(\n"
     ]
    },
    {
     "name": "stdout",
     "output_type": "stream",
     "text": [
      "(200, '{\"text\":\"Success\",\"code\":0}', {'Date': 'Mon, 13 Mar 2023 17:17:03 GMT', 'Content-Type': 'application/json; charset=UTF-8', 'Content-Length': '27', 'Connection': 'keep-alive', 'Set-Cookie': 'AWSALB=HoS88H4E237ZIbkILS08139Q25VsGLzPmcJfL/d1rbVJRUQurJ6Qwh3xxJURcj4J68STgwc2LvHhJV1gXgoCyzIALoz7S8147zc6NCPhVojRriYArVqHAm3yTTnB; Expires=Mon, 20 Mar 2023 17:17:03 GMT; Path=/, AWSALBCORS=HoS88H4E237ZIbkILS08139Q25VsGLzPmcJfL/d1rbVJRUQurJ6Qwh3xxJURcj4J68STgwc2LvHhJV1gXgoCyzIALoz7S8147zc6NCPhVojRriYArVqHAm3yTTnB; Expires=Mon, 20 Mar 2023 17:17:03 GMT; Path=/; SameSite=None; Secure', 'X-Content-Type-Options': 'nosniff', 'Vary': 'Authorization', 'X-Frame-Options': 'SAMEORIGIN', 'Server': 'Splunkd'})\n",
      "pushing ptp-16787257106568294.json to splunk\n"
     ]
    },
    {
     "name": "stderr",
     "output_type": "stream",
     "text": [
      "/home/alugasi/tasks/google data studio/code/data/lib/python3.10/site-packages/urllib3/connectionpool.py:1045: InsecureRequestWarning: Unverified HTTPS request is being made to host 'splunk-hec.prod.utility-us-east-2.redhat.com'. Adding certificate verification is strongly advised. See: https://urllib3.readthedocs.io/en/1.26.x/advanced-usage.html#ssl-warnings\n",
      "  warnings.warn(\n"
     ]
    },
    {
     "name": "stdout",
     "output_type": "stream",
     "text": [
      "(200, '{\"text\":\"Success\",\"code\":0}', {'Date': 'Mon, 13 Mar 2023 17:17:05 GMT', 'Content-Type': 'application/json; charset=UTF-8', 'Content-Length': '27', 'Connection': 'keep-alive', 'Set-Cookie': 'AWSALB=TFmu2DXDLx4C1ks12jlsunHpYRoI9h5fsRfJ/t5JfMqZ/0pxajYWEA0HY+2TKKT4gqLopxg33pyxFdELCY+LwxbTgJ50s65uhdvvdtg9//vP0CJtjIdSiPFOoCrb; Expires=Mon, 20 Mar 2023 17:17:05 GMT; Path=/, AWSALBCORS=TFmu2DXDLx4C1ks12jlsunHpYRoI9h5fsRfJ/t5JfMqZ/0pxajYWEA0HY+2TKKT4gqLopxg33pyxFdELCY+LwxbTgJ50s65uhdvvdtg9//vP0CJtjIdSiPFOoCrb; Expires=Mon, 20 Mar 2023 17:17:05 GMT; Path=/; SameSite=None; Secure', 'X-Content-Type-Options': 'nosniff', 'Vary': 'Authorization', 'X-Frame-Options': 'SAMEORIGIN', 'Server': 'Splunkd'})\n",
      "pushing ptp-16787257106569848.json to splunk\n"
     ]
    },
    {
     "name": "stderr",
     "output_type": "stream",
     "text": [
      "/home/alugasi/tasks/google data studio/code/data/lib/python3.10/site-packages/urllib3/connectionpool.py:1045: InsecureRequestWarning: Unverified HTTPS request is being made to host 'splunk-hec.prod.utility-us-east-2.redhat.com'. Adding certificate verification is strongly advised. See: https://urllib3.readthedocs.io/en/1.26.x/advanced-usage.html#ssl-warnings\n",
      "  warnings.warn(\n"
     ]
    },
    {
     "name": "stdout",
     "output_type": "stream",
     "text": [
      "(200, '{\"text\":\"Success\",\"code\":0}', {'Date': 'Mon, 13 Mar 2023 17:17:06 GMT', 'Content-Type': 'application/json; charset=UTF-8', 'Content-Length': '27', 'Connection': 'keep-alive', 'Set-Cookie': 'AWSALB=e3nIPhUhn8Ew1WBsa2KL/d6lAjV8igwsUfsUSg9/pEoHHwn+om65cUTNp7JGdbhbUplP4KgXhmCwSvWMJHm2elCK4bN+MgTm658FuMD69TdUNROi8U7GUCsJTpXo; Expires=Mon, 20 Mar 2023 17:17:06 GMT; Path=/, AWSALBCORS=e3nIPhUhn8Ew1WBsa2KL/d6lAjV8igwsUfsUSg9/pEoHHwn+om65cUTNp7JGdbhbUplP4KgXhmCwSvWMJHm2elCK4bN+MgTm658FuMD69TdUNROi8U7GUCsJTpXo; Expires=Mon, 20 Mar 2023 17:17:06 GMT; Path=/; SameSite=None; Secure', 'X-Content-Type-Options': 'nosniff', 'Vary': 'Authorization', 'X-Frame-Options': 'SAMEORIGIN', 'Server': 'Splunkd'})\n",
      "pushing ptp-16787257106571462.json to splunk\n"
     ]
    },
    {
     "name": "stderr",
     "output_type": "stream",
     "text": [
      "/home/alugasi/tasks/google data studio/code/data/lib/python3.10/site-packages/urllib3/connectionpool.py:1045: InsecureRequestWarning: Unverified HTTPS request is being made to host 'splunk-hec.prod.utility-us-east-2.redhat.com'. Adding certificate verification is strongly advised. See: https://urllib3.readthedocs.io/en/1.26.x/advanced-usage.html#ssl-warnings\n",
      "  warnings.warn(\n"
     ]
    },
    {
     "name": "stdout",
     "output_type": "stream",
     "text": [
      "(200, '{\"text\":\"Success\",\"code\":0}', {'Date': 'Mon, 13 Mar 2023 17:17:07 GMT', 'Content-Type': 'application/json; charset=UTF-8', 'Content-Length': '27', 'Connection': 'keep-alive', 'Set-Cookie': 'AWSALB=QXdR4m+FvmMJgJkhbkeYZW8RuglHYA3n/CYQXvkk7zxM0dmSrCRluPqRA3Hb5sHNwUudnBMO692HwNFP0d9XB+2w4NkTkVvmSRatYa4M3uzWWRIuKmdDc8cst/mB; Expires=Mon, 20 Mar 2023 17:17:07 GMT; Path=/, AWSALBCORS=QXdR4m+FvmMJgJkhbkeYZW8RuglHYA3n/CYQXvkk7zxM0dmSrCRluPqRA3Hb5sHNwUudnBMO692HwNFP0d9XB+2w4NkTkVvmSRatYa4M3uzWWRIuKmdDc8cst/mB; Expires=Mon, 20 Mar 2023 17:17:07 GMT; Path=/; SameSite=None; Secure', 'X-Content-Type-Options': 'nosniff', 'Vary': 'Authorization', 'X-Frame-Options': 'SAMEORIGIN', 'Server': 'Splunkd'})\n",
      "pushing ptp-16787257106573093.json to splunk\n"
     ]
    },
    {
     "name": "stderr",
     "output_type": "stream",
     "text": [
      "/home/alugasi/tasks/google data studio/code/data/lib/python3.10/site-packages/urllib3/connectionpool.py:1045: InsecureRequestWarning: Unverified HTTPS request is being made to host 'splunk-hec.prod.utility-us-east-2.redhat.com'. Adding certificate verification is strongly advised. See: https://urllib3.readthedocs.io/en/1.26.x/advanced-usage.html#ssl-warnings\n",
      "  warnings.warn(\n"
     ]
    },
    {
     "name": "stdout",
     "output_type": "stream",
     "text": [
      "(200, '{\"text\":\"Success\",\"code\":0}', {'Date': 'Mon, 13 Mar 2023 17:17:08 GMT', 'Content-Type': 'application/json; charset=UTF-8', 'Content-Length': '27', 'Connection': 'keep-alive', 'Set-Cookie': 'AWSALB=GoA4LPbmxgiFkR72FmQ5TB0HU0mbmcFk0LnLsJVBx/ZAoVMOeMjHbRBy3APJUxEqjfNe9EqkOSA+mOUFGlOnFXJiJ6PqWwj2R3U7CE26fw45LVi4bGbMxiMkLTC8; Expires=Mon, 20 Mar 2023 17:17:08 GMT; Path=/, AWSALBCORS=GoA4LPbmxgiFkR72FmQ5TB0HU0mbmcFk0LnLsJVBx/ZAoVMOeMjHbRBy3APJUxEqjfNe9EqkOSA+mOUFGlOnFXJiJ6PqWwj2R3U7CE26fw45LVi4bGbMxiMkLTC8; Expires=Mon, 20 Mar 2023 17:17:08 GMT; Path=/; SameSite=None; Secure', 'X-Content-Type-Options': 'nosniff', 'Vary': 'Authorization', 'X-Frame-Options': 'SAMEORIGIN', 'Server': 'Splunkd'})\n",
      "pushing ptp-16787257106574712.json to splunk\n"
     ]
    },
    {
     "name": "stderr",
     "output_type": "stream",
     "text": [
      "/home/alugasi/tasks/google data studio/code/data/lib/python3.10/site-packages/urllib3/connectionpool.py:1045: InsecureRequestWarning: Unverified HTTPS request is being made to host 'splunk-hec.prod.utility-us-east-2.redhat.com'. Adding certificate verification is strongly advised. See: https://urllib3.readthedocs.io/en/1.26.x/advanced-usage.html#ssl-warnings\n",
      "  warnings.warn(\n"
     ]
    },
    {
     "name": "stdout",
     "output_type": "stream",
     "text": [
      "(200, '{\"text\":\"Success\",\"code\":0}', {'Date': 'Mon, 13 Mar 2023 17:17:09 GMT', 'Content-Type': 'application/json; charset=UTF-8', 'Content-Length': '27', 'Connection': 'keep-alive', 'Set-Cookie': 'AWSALB=8NM5xq/pO9gQGfLhA0ksN8YjlK2kkw4vbZwbBV2nUmBeYux7q/aeUDrnzpSGjakqH/t3D8fOrm5WMt8zcWzCqruG8qIn4ZZksCHnUjdacnYgWlHbXtevoAkt3A7U; Expires=Mon, 20 Mar 2023 17:17:09 GMT; Path=/, AWSALBCORS=8NM5xq/pO9gQGfLhA0ksN8YjlK2kkw4vbZwbBV2nUmBeYux7q/aeUDrnzpSGjakqH/t3D8fOrm5WMt8zcWzCqruG8qIn4ZZksCHnUjdacnYgWlHbXtevoAkt3A7U; Expires=Mon, 20 Mar 2023 17:17:09 GMT; Path=/; SameSite=None; Secure', 'X-Content-Type-Options': 'nosniff', 'Vary': 'Authorization', 'X-Frame-Options': 'SAMEORIGIN', 'Server': 'Splunkd'})\n",
      "pushing ptp-16787257106576204.json to splunk\n"
     ]
    },
    {
     "name": "stderr",
     "output_type": "stream",
     "text": [
      "/home/alugasi/tasks/google data studio/code/data/lib/python3.10/site-packages/urllib3/connectionpool.py:1045: InsecureRequestWarning: Unverified HTTPS request is being made to host 'splunk-hec.prod.utility-us-east-2.redhat.com'. Adding certificate verification is strongly advised. See: https://urllib3.readthedocs.io/en/1.26.x/advanced-usage.html#ssl-warnings\n",
      "  warnings.warn(\n"
     ]
    },
    {
     "name": "stdout",
     "output_type": "stream",
     "text": [
      "(200, '{\"text\":\"Success\",\"code\":0}', {'Date': 'Mon, 13 Mar 2023 17:17:10 GMT', 'Content-Type': 'application/json; charset=UTF-8', 'Content-Length': '27', 'Connection': 'keep-alive', 'Set-Cookie': 'AWSALB=NCf830+Vre4xOVMBE+IdfLZurne4dHOsDAOtx+q5Vtu4tw+AhP7/rDEaNyrFNYHoWCDPLlAjsLy2NjBksLzO2mNwHguBMFqmDri8NQvASpZD20t2fyODxHYPYDYr; Expires=Mon, 20 Mar 2023 17:17:10 GMT; Path=/, AWSALBCORS=NCf830+Vre4xOVMBE+IdfLZurne4dHOsDAOtx+q5Vtu4tw+AhP7/rDEaNyrFNYHoWCDPLlAjsLy2NjBksLzO2mNwHguBMFqmDri8NQvASpZD20t2fyODxHYPYDYr; Expires=Mon, 20 Mar 2023 17:17:10 GMT; Path=/; SameSite=None; Secure', 'X-Content-Type-Options': 'nosniff', 'Vary': 'Authorization', 'X-Frame-Options': 'SAMEORIGIN', 'Server': 'Splunkd'})\n",
      "pushing ptp-16787257106577616.json to splunk\n"
     ]
    },
    {
     "name": "stderr",
     "output_type": "stream",
     "text": [
      "/home/alugasi/tasks/google data studio/code/data/lib/python3.10/site-packages/urllib3/connectionpool.py:1045: InsecureRequestWarning: Unverified HTTPS request is being made to host 'splunk-hec.prod.utility-us-east-2.redhat.com'. Adding certificate verification is strongly advised. See: https://urllib3.readthedocs.io/en/1.26.x/advanced-usage.html#ssl-warnings\n",
      "  warnings.warn(\n"
     ]
    },
    {
     "name": "stdout",
     "output_type": "stream",
     "text": [
      "(200, '{\"text\":\"Success\",\"code\":0}', {'Date': 'Mon, 13 Mar 2023 17:17:11 GMT', 'Content-Type': 'application/json; charset=UTF-8', 'Content-Length': '27', 'Connection': 'keep-alive', 'Set-Cookie': 'AWSALB=svHbr806GQNtxkBQ/Bz17YrVtYTKrfNu4CsYdAyCjWIRLLoa4/eeQXB/09TJ0+jZhw6WbCGhnsXwx4JT4Rqss2h2l9cUQ+f/wZBnMza9ZK3rpsO40/dZJ5Hw6GcJ; Expires=Mon, 20 Mar 2023 17:17:11 GMT; Path=/, AWSALBCORS=svHbr806GQNtxkBQ/Bz17YrVtYTKrfNu4CsYdAyCjWIRLLoa4/eeQXB/09TJ0+jZhw6WbCGhnsXwx4JT4Rqss2h2l9cUQ+f/wZBnMza9ZK3rpsO40/dZJ5Hw6GcJ; Expires=Mon, 20 Mar 2023 17:17:11 GMT; Path=/; SameSite=None; Secure', 'X-Content-Type-Options': 'nosniff', 'Vary': 'Authorization', 'X-Frame-Options': 'SAMEORIGIN', 'Server': 'Splunkd'})\n",
      "pushing ptp-16787257106579022.json to splunk\n"
     ]
    },
    {
     "name": "stderr",
     "output_type": "stream",
     "text": [
      "/home/alugasi/tasks/google data studio/code/data/lib/python3.10/site-packages/urllib3/connectionpool.py:1045: InsecureRequestWarning: Unverified HTTPS request is being made to host 'splunk-hec.prod.utility-us-east-2.redhat.com'. Adding certificate verification is strongly advised. See: https://urllib3.readthedocs.io/en/1.26.x/advanced-usage.html#ssl-warnings\n",
      "  warnings.warn(\n"
     ]
    },
    {
     "name": "stdout",
     "output_type": "stream",
     "text": [
      "(200, '{\"text\":\"Success\",\"code\":0}', {'Date': 'Mon, 13 Mar 2023 17:17:12 GMT', 'Content-Type': 'application/json; charset=UTF-8', 'Content-Length': '27', 'Connection': 'keep-alive', 'Set-Cookie': 'AWSALB=l1tvHLWtgIy8HuLJW1OCVkXDRf6hAgAUD9NaVtDT594WSqp/0ihr4wcaoQRfbY0Gn52ee37f3miCbj9drZaKCxG5DpJHmHeGR5h5+Vpi2wVj9tMqtOMc3TUcEe2G; Expires=Mon, 20 Mar 2023 17:17:12 GMT; Path=/, AWSALBCORS=l1tvHLWtgIy8HuLJW1OCVkXDRf6hAgAUD9NaVtDT594WSqp/0ihr4wcaoQRfbY0Gn52ee37f3miCbj9drZaKCxG5DpJHmHeGR5h5+Vpi2wVj9tMqtOMc3TUcEe2G; Expires=Mon, 20 Mar 2023 17:17:12 GMT; Path=/; SameSite=None; Secure', 'X-Content-Type-Options': 'nosniff', 'Vary': 'Authorization', 'X-Frame-Options': 'SAMEORIGIN', 'Server': 'Splunkd'})\n",
      "pushing ptp-16787257106580446.json to splunk\n"
     ]
    },
    {
     "name": "stderr",
     "output_type": "stream",
     "text": [
      "/home/alugasi/tasks/google data studio/code/data/lib/python3.10/site-packages/urllib3/connectionpool.py:1045: InsecureRequestWarning: Unverified HTTPS request is being made to host 'splunk-hec.prod.utility-us-east-2.redhat.com'. Adding certificate verification is strongly advised. See: https://urllib3.readthedocs.io/en/1.26.x/advanced-usage.html#ssl-warnings\n",
      "  warnings.warn(\n"
     ]
    },
    {
     "name": "stdout",
     "output_type": "stream",
     "text": [
      "(200, '{\"text\":\"Success\",\"code\":0}', {'Date': 'Mon, 13 Mar 2023 17:17:13 GMT', 'Content-Type': 'application/json; charset=UTF-8', 'Content-Length': '27', 'Connection': 'keep-alive', 'Set-Cookie': 'AWSALB=UNgmARZ5A64LNeYX3IvqM8ZElNjajluOmswwDsOiKUQtRv4S5jbVskw1nuV9gCvBCKqIcnZX9OUVGFwlkaduXaWUOkJeC5wTjom7pPmpM178qfzNLazg2vK82b/u; Expires=Mon, 20 Mar 2023 17:17:13 GMT; Path=/, AWSALBCORS=UNgmARZ5A64LNeYX3IvqM8ZElNjajluOmswwDsOiKUQtRv4S5jbVskw1nuV9gCvBCKqIcnZX9OUVGFwlkaduXaWUOkJeC5wTjom7pPmpM178qfzNLazg2vK82b/u; Expires=Mon, 20 Mar 2023 17:17:13 GMT; Path=/; SameSite=None; Secure', 'X-Content-Type-Options': 'nosniff', 'Vary': 'Authorization', 'X-Frame-Options': 'SAMEORIGIN', 'Server': 'Splunkd'})\n",
      "pushing ptp-16787257106581938.json to splunk\n"
     ]
    },
    {
     "name": "stderr",
     "output_type": "stream",
     "text": [
      "/home/alugasi/tasks/google data studio/code/data/lib/python3.10/site-packages/urllib3/connectionpool.py:1045: InsecureRequestWarning: Unverified HTTPS request is being made to host 'splunk-hec.prod.utility-us-east-2.redhat.com'. Adding certificate verification is strongly advised. See: https://urllib3.readthedocs.io/en/1.26.x/advanced-usage.html#ssl-warnings\n",
      "  warnings.warn(\n"
     ]
    },
    {
     "name": "stdout",
     "output_type": "stream",
     "text": [
      "(200, '{\"text\":\"Success\",\"code\":0}', {'Date': 'Mon, 13 Mar 2023 17:17:14 GMT', 'Content-Type': 'application/json; charset=UTF-8', 'Content-Length': '27', 'Connection': 'keep-alive', 'Set-Cookie': 'AWSALB=txYkvWQbqJL1K9N7sK5Yu8ogdoiYT4dFZcgINPvoQAAqghAg+3ktmhotASzoPifj2shA0jkxnLyroA+v0r9i5p9+XYJ7tzNXzBVlbQi4LO6d3bDWpsYSo8aUWGPG; Expires=Mon, 20 Mar 2023 17:17:14 GMT; Path=/, AWSALBCORS=txYkvWQbqJL1K9N7sK5Yu8ogdoiYT4dFZcgINPvoQAAqghAg+3ktmhotASzoPifj2shA0jkxnLyroA+v0r9i5p9+XYJ7tzNXzBVlbQi4LO6d3bDWpsYSo8aUWGPG; Expires=Mon, 20 Mar 2023 17:17:14 GMT; Path=/; SameSite=None; Secure', 'X-Content-Type-Options': 'nosniff', 'Vary': 'Authorization', 'X-Frame-Options': 'SAMEORIGIN', 'Server': 'Splunkd'})\n",
      "pushing ptp-16787257106583374.json to splunk\n"
     ]
    },
    {
     "name": "stderr",
     "output_type": "stream",
     "text": [
      "/home/alugasi/tasks/google data studio/code/data/lib/python3.10/site-packages/urllib3/connectionpool.py:1045: InsecureRequestWarning: Unverified HTTPS request is being made to host 'splunk-hec.prod.utility-us-east-2.redhat.com'. Adding certificate verification is strongly advised. See: https://urllib3.readthedocs.io/en/1.26.x/advanced-usage.html#ssl-warnings\n",
      "  warnings.warn(\n"
     ]
    },
    {
     "name": "stdout",
     "output_type": "stream",
     "text": [
      "(200, '{\"text\":\"Success\",\"code\":0}', {'Date': 'Mon, 13 Mar 2023 17:17:15 GMT', 'Content-Type': 'application/json; charset=UTF-8', 'Content-Length': '27', 'Connection': 'keep-alive', 'Set-Cookie': 'AWSALB=jWVplIjiSUK2qnqiOA+eqAASJ43tqXbutL7VIR16H1R8v2kzJXbs1Fsv7kFe8yfY7VCAMmKEe9LOr3grLcbR+9oQYBWy/fi+9yonVLBfHcRy8zcUsX5S1EXQ+VBr; Expires=Mon, 20 Mar 2023 17:17:15 GMT; Path=/, AWSALBCORS=jWVplIjiSUK2qnqiOA+eqAASJ43tqXbutL7VIR16H1R8v2kzJXbs1Fsv7kFe8yfY7VCAMmKEe9LOr3grLcbR+9oQYBWy/fi+9yonVLBfHcRy8zcUsX5S1EXQ+VBr; Expires=Mon, 20 Mar 2023 17:17:15 GMT; Path=/; SameSite=None; Secure', 'X-Content-Type-Options': 'nosniff', 'Vary': 'Authorization', 'X-Frame-Options': 'SAMEORIGIN', 'Server': 'Splunkd'})\n",
      "pushing ptp-16787257106584783.json to splunk\n"
     ]
    },
    {
     "name": "stderr",
     "output_type": "stream",
     "text": [
      "/home/alugasi/tasks/google data studio/code/data/lib/python3.10/site-packages/urllib3/connectionpool.py:1045: InsecureRequestWarning: Unverified HTTPS request is being made to host 'splunk-hec.prod.utility-us-east-2.redhat.com'. Adding certificate verification is strongly advised. See: https://urllib3.readthedocs.io/en/1.26.x/advanced-usage.html#ssl-warnings\n",
      "  warnings.warn(\n"
     ]
    },
    {
     "name": "stdout",
     "output_type": "stream",
     "text": [
      "(200, '{\"text\":\"Success\",\"code\":0}', {'Date': 'Mon, 13 Mar 2023 17:17:16 GMT', 'Content-Type': 'application/json; charset=UTF-8', 'Content-Length': '27', 'Connection': 'keep-alive', 'Set-Cookie': 'AWSALB=493hj/ZLDMqaCcuO40bl5lEl0vaS/NvwccWb+WmRIU4qz4zBmtIS3Zm79xiFBGtWOdmU6wptIt+i389UBjmvi7UktIzpEJ5iY2bd8vQ2qTrUylK5TlmBBMiprANV; Expires=Mon, 20 Mar 2023 17:17:16 GMT; Path=/, AWSALBCORS=493hj/ZLDMqaCcuO40bl5lEl0vaS/NvwccWb+WmRIU4qz4zBmtIS3Zm79xiFBGtWOdmU6wptIt+i389UBjmvi7UktIzpEJ5iY2bd8vQ2qTrUylK5TlmBBMiprANV; Expires=Mon, 20 Mar 2023 17:17:16 GMT; Path=/; SameSite=None; Secure', 'X-Content-Type-Options': 'nosniff', 'Vary': 'Authorization', 'X-Frame-Options': 'SAMEORIGIN', 'Server': 'Splunkd'})\n",
      "pushing ptp-1678725710658618.json to splunk\n"
     ]
    },
    {
     "name": "stderr",
     "output_type": "stream",
     "text": [
      "/home/alugasi/tasks/google data studio/code/data/lib/python3.10/site-packages/urllib3/connectionpool.py:1045: InsecureRequestWarning: Unverified HTTPS request is being made to host 'splunk-hec.prod.utility-us-east-2.redhat.com'. Adding certificate verification is strongly advised. See: https://urllib3.readthedocs.io/en/1.26.x/advanced-usage.html#ssl-warnings\n",
      "  warnings.warn(\n"
     ]
    },
    {
     "name": "stdout",
     "output_type": "stream",
     "text": [
      "(200, '{\"text\":\"Success\",\"code\":0}', {'Date': 'Mon, 13 Mar 2023 17:17:17 GMT', 'Content-Type': 'application/json; charset=UTF-8', 'Content-Length': '27', 'Connection': 'keep-alive', 'Set-Cookie': 'AWSALB=hzBpOo9CVFm8JF7QuJjMVERVhPADWcaoGBP3oVDtlqMjZiQTXwOjEGMDtyPtThiByJa8UNLyGD9W/IJOZD3FjKs+Ei4PHiNGbyJ7H3wDCxHnurT+fg4lUiWIlqOd; Expires=Mon, 20 Mar 2023 17:17:17 GMT; Path=/, AWSALBCORS=hzBpOo9CVFm8JF7QuJjMVERVhPADWcaoGBP3oVDtlqMjZiQTXwOjEGMDtyPtThiByJa8UNLyGD9W/IJOZD3FjKs+Ei4PHiNGbyJ7H3wDCxHnurT+fg4lUiWIlqOd; Expires=Mon, 20 Mar 2023 17:17:17 GMT; Path=/; SameSite=None; Secure', 'X-Content-Type-Options': 'nosniff', 'Vary': 'Authorization', 'X-Frame-Options': 'SAMEORIGIN', 'Server': 'Splunkd'})\n",
      "pushing ptp-16787257106587694.json to splunk\n"
     ]
    },
    {
     "name": "stderr",
     "output_type": "stream",
     "text": [
      "/home/alugasi/tasks/google data studio/code/data/lib/python3.10/site-packages/urllib3/connectionpool.py:1045: InsecureRequestWarning: Unverified HTTPS request is being made to host 'splunk-hec.prod.utility-us-east-2.redhat.com'. Adding certificate verification is strongly advised. See: https://urllib3.readthedocs.io/en/1.26.x/advanced-usage.html#ssl-warnings\n",
      "  warnings.warn(\n"
     ]
    },
    {
     "name": "stdout",
     "output_type": "stream",
     "text": [
      "(200, '{\"text\":\"Success\",\"code\":0}', {'Date': 'Mon, 13 Mar 2023 17:17:18 GMT', 'Content-Type': 'application/json; charset=UTF-8', 'Content-Length': '27', 'Connection': 'keep-alive', 'Set-Cookie': 'AWSALB=Bx2yQPcPCsVNluYdSs86CP3VN45+SXHa3AC5iwaG45aoQ+5PEI5rlP+IOw3K+BcZXKXbOSXEg9WF8qMeUGjQhUqQ6/yW2ZY826BYo4gu4Ma018bhlh1t0EKJyV9f; Expires=Mon, 20 Mar 2023 17:17:18 GMT; Path=/, AWSALBCORS=Bx2yQPcPCsVNluYdSs86CP3VN45+SXHa3AC5iwaG45aoQ+5PEI5rlP+IOw3K+BcZXKXbOSXEg9WF8qMeUGjQhUqQ6/yW2ZY826BYo4gu4Ma018bhlh1t0EKJyV9f; Expires=Mon, 20 Mar 2023 17:17:18 GMT; Path=/; SameSite=None; Secure', 'X-Content-Type-Options': 'nosniff', 'Vary': 'Authorization', 'X-Frame-Options': 'SAMEORIGIN', 'Server': 'Splunkd'})\n"
     ]
    }
   ],
   "source": [
    "ptp_json_files = list_files(\"ExtractTestsResults/JsonTestsFolders/PTP\")\n",
    "\n",
    "for file in ptp_json_files:\n",
    "    json_file_file = \"ExtractTestsResults/JsonTestsFolders/PTP/\" + file\n",
    "    cmd = ['python3', 'splunkHecPush.py',  '-j', json_file_file, '-i', 'ecosystem-qe-dev', '-t' ,'94eeb2f9-8e5f-4c86-adec-336b3368c74e']\n",
    "    print(\"pushing {} to splunk\".format(file))\n",
    "    run(cmd)\n",
    "    "
   ]
  }
 ],
 "metadata": {
  "kernelspec": {
   "display_name": "Python 3.10.6 ('data': venv)",
   "language": "python",
   "name": "python3"
  },
  "language_info": {
   "codemirror_mode": {
    "name": "ipython",
    "version": 3
   },
   "file_extension": ".py",
   "mimetype": "text/x-python",
   "name": "python",
   "nbconvert_exporter": "python",
   "pygments_lexer": "ipython3",
   "version": "3.10.6"
  },
  "orig_nbformat": 4,
  "vscode": {
   "interpreter": {
    "hash": "36996c97f3a513c7539113157ff2a07191b199a8c1a7349bbd76d49dcb155f46"
   }
  }
 },
 "nbformat": 4,
 "nbformat_minor": 2
}
