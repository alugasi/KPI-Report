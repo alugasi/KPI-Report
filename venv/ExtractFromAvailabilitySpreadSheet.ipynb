{
 "cells": [
  {
   "cell_type": "code",
   "execution_count": 42,
   "metadata": {},
   "outputs": [],
   "source": [
    "#include json and os librareries\n",
    "import json\n",
    "import time\n",
    "import pandas as pd\n",
    "import os\n",
    "from subprocess import run"
   ]
  },
  {
   "cell_type": "code",
   "execution_count": 43,
   "metadata": {},
   "outputs": [],
   "source": [
    "####Globals:\n",
    "JSON_DIR=\"ExtractTestsResults/JsonTestsFolders/oslats/oslat-\"\n",
    "TEST_TYPE = \"oslat\"\n",
    "\n",
    "############################################################################\n",
    "#                                                                          #\n",
    "#                    #################################                     #\n",
    "#                    #      Helper functions         #                     #\n",
    "#                    #################################                     #\n",
    "#                                                                          #\n",
    "############################################################################\n",
    "\n",
    "def create_json(results_dict:dict, JSON_DIR:str):\n",
    "    #create json object\n",
    "    #add uniuqe id to file name (using unix time)\n",
    "    timestamp = str(time.time()).replace('.', '')\n",
    "    # open a file and write the JSON data to it\n",
    "    with open(JSON_DIR+timestamp+\".json\", \"w\") as json_file:\n",
    "        json.dump(results_dict, json_file)\n",
    "\n",
    "def list_files(path):\n",
    "    \"\"\"\n",
    "    Return a list of all json file names in the specified folder.\n",
    "    \"\"\"\n",
    "    files = []\n",
    "    for file in os.listdir(path):\n",
    "        if os.path.isfile(os.path.join(path, file)):\n",
    "            files.append(file)\n",
    "    return files\n",
    "\n",
    "def extract_test_units(results_dict:dict, test_units_df):\n",
    "    \"\"\"\n",
    "    extract all test units metrics(thread/cores) of a specific test, and update them in the result dict.\\n\n",
    "    params:\n",
    "        -results_dict(dict)-dict that contains test parameters and metrics.\\n\n",
    "        -test_units_df(dataframe)- dataframe that contains specific test's test units metrics.\\n\n",
    "    returns: updated dict that contains test parameters and metrics.\\n.\n",
    "    \"\"\"\n",
    "    test_units_list = []\n",
    "    for _, row in test_units_df.iterrows():\n",
    "        test_units_list.append({\"index\":row[\"Index\"], \n",
    "            \"max_latency\":row[\"Max\"], \n",
    "            \"min_latency\":row[\"Min\"], \n",
    "            \"avg_latency\":row[\"Avg\"], \n",
    "            \"availability\":row[\"Availability\"], \n",
    "            \"number_of_nines\":row[\"Number of Nines\"]})\n",
    "\n",
    "    results_dict[\"test_units\"] = test_units_list\n",
    "\n",
    "    return results_dict   \n"
   ]
  },
  {
   "cell_type": "code",
   "execution_count": 50,
   "metadata": {},
   "outputs": [],
   "source": [
    "availabilty_df = pd.read_csv(\"spreadsheets/RAN QE Performance KPIs - oslat.csv\").fillna(\"\")\n",
    "availabilty_df[\"Version\"] = availabilty_df[\"Version\"].astype(\"str\")\n",
    "availabilty_df[\"Operator Version\"] = availabilty_df[\"Operator Version\"].astype(\"str\")\n",
    "availabilty_df.loc[availabilty_df[\"Version\"] == \"4.1\", \"Version\"] = \"4.10\"\n",
    "availabilty_df.loc[availabilty_df[\"Operator Version\"] == \"4.1\", \"Operator Version\"] = \"4.10\"\n",
    "if not set([\"Kernel\", \"Sideloaded\"]).issubset(availabilty_df.columns):\n",
    "    availabilty_df[\"Kernel\"] = \"\"\n",
    "    availabilty_df[\"Sideloaded\"] = \"\""
   ]
  },
  {
   "cell_type": "code",
   "execution_count": 52,
   "metadata": {},
   "outputs": [],
   "source": [
    "grouped_availabilty = availabilty_df.groupby([\"Version\", \"OCP Version\"])"
   ]
  },
  {
   "cell_type": "code",
   "execution_count": 53,
   "metadata": {},
   "outputs": [
    {
     "name": "stdout",
     "output_type": "stream",
     "text": [
      "creating json file for ('4.10', '4.10.0-rc.0')\n",
      "creating json file for ('4.10', '4.10.23')\n",
      "creating json file for ('4.10', '4.10.8')\n",
      "creating json file for ('4.11', '4.11.0-rc.1')\n",
      "creating json file for ('4.11', '4.11.22')\n",
      "creating json file for ('4.8', '4.8.15')\n",
      "creating json file for ('4.9', '4.9.0 rc.0')\n",
      "creating json file for ('4.9', '4.9.13-assembly.art3657')\n",
      "creating json file for ('4.9', '4.9.6')\n"
     ]
    }
   ],
   "source": [
    "for version_key, threads in grouped_availabilty:\n",
    "    print(\"creating json file for {}\".format(version_key))\n",
    "    threads = threads.sort_values(by='Index', ascending=True)\n",
    "    results_dict = {}\n",
    "    results_dict[\"ocp_version\"] = threads[\"Version\"].values[0]\n",
    "    results_dict[\"ocp_build\"] = threads[\"OCP Version\"].values[0]\n",
    "    results_dict[\"test_type\"] = TEST_TYPE\n",
    "    results_dict[\"node_name\"] = threads[\"Cluster\"].values[0]\n",
    "    results_dict[\"duration\"] = threads[\"Duration\"].values[0]\n",
    "    results_dict[\"kernel\"] = threads[\"Kernel\"].values[0]\n",
    "    results_dict[\"sideloaded\"] = \"true\" if threads[\"Sideloaded\"].values[0] == \"Yes\" else \"false\" if threads[\"Sideloaded\"].values[0] == \"No\" else \"\" \n",
    "    results_dict[\"operator_version\"] = threads[\"Operator Version\"].values[0]\n",
    "\n",
    "    results_dict = extract_test_units(results_dict=results_dict, test_units_df=threads)\n",
    "    create_json(results_dict=results_dict, JSON_DIR=JSON_DIR)"
   ]
  },
  {
   "cell_type": "code",
   "execution_count": 54,
   "metadata": {},
   "outputs": [
    {
     "name": "stdout",
     "output_type": "stream",
     "text": [
      "pushing oslat-1678787168340665.json to splunk\n"
     ]
    },
    {
     "name": "stderr",
     "output_type": "stream",
     "text": [
      "/home/alugasi/tasks/google data studio/code/data/lib/python3.10/site-packages/urllib3/connectionpool.py:1045: InsecureRequestWarning: Unverified HTTPS request is being made to host 'splunk-hec.prod.utility-us-east-2.redhat.com'. Adding certificate verification is strongly advised. See: https://urllib3.readthedocs.io/en/1.26.x/advanced-usage.html#ssl-warnings\n",
      "  warnings.warn(\n"
     ]
    },
    {
     "name": "stdout",
     "output_type": "stream",
     "text": [
      "(200, '{\"text\":\"Success\",\"code\":0}', {'Date': 'Tue, 14 Mar 2023 10:07:14 GMT', 'Content-Type': 'application/json; charset=UTF-8', 'Content-Length': '27', 'Connection': 'keep-alive', 'Set-Cookie': 'AWSALB=gPi0YV4xNuMh7FoAvn19Om1Na5AXUDYeoL5rNu3Cq0FqcnFISWkEd3qdBr07UbkhWqMC9eb/xQtpedmCFEYtpMtTaXetU23MX3XDVX+aU1egfoQVcL7p0/yh6EAt; Expires=Tue, 21 Mar 2023 10:07:14 GMT; Path=/, AWSALBCORS=gPi0YV4xNuMh7FoAvn19Om1Na5AXUDYeoL5rNu3Cq0FqcnFISWkEd3qdBr07UbkhWqMC9eb/xQtpedmCFEYtpMtTaXetU23MX3XDVX+aU1egfoQVcL7p0/yh6EAt; Expires=Tue, 21 Mar 2023 10:07:14 GMT; Path=/; SameSite=None; Secure', 'X-Content-Type-Options': 'nosniff', 'Vary': 'Authorization', 'X-Frame-Options': 'SAMEORIGIN', 'Server': 'Splunkd'})\n",
      "pushing oslat-1678787168342307.json to splunk\n"
     ]
    },
    {
     "name": "stderr",
     "output_type": "stream",
     "text": [
      "/home/alugasi/tasks/google data studio/code/data/lib/python3.10/site-packages/urllib3/connectionpool.py:1045: InsecureRequestWarning: Unverified HTTPS request is being made to host 'splunk-hec.prod.utility-us-east-2.redhat.com'. Adding certificate verification is strongly advised. See: https://urllib3.readthedocs.io/en/1.26.x/advanced-usage.html#ssl-warnings\n",
      "  warnings.warn(\n"
     ]
    },
    {
     "name": "stdout",
     "output_type": "stream",
     "text": [
      "(200, '{\"text\":\"Success\",\"code\":0}', {'Date': 'Tue, 14 Mar 2023 10:07:16 GMT', 'Content-Type': 'application/json; charset=UTF-8', 'Content-Length': '27', 'Connection': 'keep-alive', 'Set-Cookie': 'AWSALB=dBZwHVB4xNDDrfrQhSWBhJaff6r4Ta6ExAGOZn2+/1omo33VljjZ2zb2IPfJTH7+IwibBmvTM7FCKzDZQa7BHOq+pmst7I5CWqwl2pmJ2qSDnLsQpFxqQZEcZgW6; Expires=Tue, 21 Mar 2023 10:07:16 GMT; Path=/, AWSALBCORS=dBZwHVB4xNDDrfrQhSWBhJaff6r4Ta6ExAGOZn2+/1omo33VljjZ2zb2IPfJTH7+IwibBmvTM7FCKzDZQa7BHOq+pmst7I5CWqwl2pmJ2qSDnLsQpFxqQZEcZgW6; Expires=Tue, 21 Mar 2023 10:07:16 GMT; Path=/; SameSite=None; Secure', 'X-Content-Type-Options': 'nosniff', 'Vary': 'Authorization', 'X-Frame-Options': 'SAMEORIGIN', 'Server': 'Splunkd'})\n",
      "pushing oslat-16787871683435643.json to splunk\n"
     ]
    },
    {
     "name": "stderr",
     "output_type": "stream",
     "text": [
      "/home/alugasi/tasks/google data studio/code/data/lib/python3.10/site-packages/urllib3/connectionpool.py:1045: InsecureRequestWarning: Unverified HTTPS request is being made to host 'splunk-hec.prod.utility-us-east-2.redhat.com'. Adding certificate verification is strongly advised. See: https://urllib3.readthedocs.io/en/1.26.x/advanced-usage.html#ssl-warnings\n",
      "  warnings.warn(\n"
     ]
    },
    {
     "name": "stdout",
     "output_type": "stream",
     "text": [
      "(200, '{\"text\":\"Success\",\"code\":0}', {'Date': 'Tue, 14 Mar 2023 10:07:17 GMT', 'Content-Type': 'application/json; charset=UTF-8', 'Content-Length': '27', 'Connection': 'keep-alive', 'Set-Cookie': 'AWSALB=EjXH7p3FRamo6a7AATgcg5ZWG/ZfZaEnBuXkKav5qWVcehtYmw6/FqUR2Hlf2hWqbxot5r90bwjjKevxaLI0OtRMGCiYbcxsRsdtD/Kp0Jj3gR3oLwLpMXlk+BvX; Expires=Tue, 21 Mar 2023 10:07:17 GMT; Path=/, AWSALBCORS=EjXH7p3FRamo6a7AATgcg5ZWG/ZfZaEnBuXkKav5qWVcehtYmw6/FqUR2Hlf2hWqbxot5r90bwjjKevxaLI0OtRMGCiYbcxsRsdtD/Kp0Jj3gR3oLwLpMXlk+BvX; Expires=Tue, 21 Mar 2023 10:07:17 GMT; Path=/; SameSite=None; Secure', 'X-Content-Type-Options': 'nosniff', 'Vary': 'Authorization', 'X-Frame-Options': 'SAMEORIGIN', 'Server': 'Splunkd'})\n",
      "pushing oslat-1678787168344948.json to splunk\n"
     ]
    },
    {
     "name": "stderr",
     "output_type": "stream",
     "text": [
      "/home/alugasi/tasks/google data studio/code/data/lib/python3.10/site-packages/urllib3/connectionpool.py:1045: InsecureRequestWarning: Unverified HTTPS request is being made to host 'splunk-hec.prod.utility-us-east-2.redhat.com'. Adding certificate verification is strongly advised. See: https://urllib3.readthedocs.io/en/1.26.x/advanced-usage.html#ssl-warnings\n",
      "  warnings.warn(\n"
     ]
    },
    {
     "name": "stdout",
     "output_type": "stream",
     "text": [
      "(200, '{\"text\":\"Success\",\"code\":0}', {'Date': 'Tue, 14 Mar 2023 10:07:17 GMT', 'Content-Type': 'application/json; charset=UTF-8', 'Content-Length': '27', 'Connection': 'keep-alive', 'Set-Cookie': 'AWSALB=+GFfZAvFkKOlf0mTiNp5UqkJtwHkiEpxSlBGkE8i/ODHZfEMXcCc6Y2uBe/jeM8IPGPyQOMgUHOatgR3B5+0BAyEjkfNHzRF2q27Nu18Zc2kPCuT6XMQpKLTMrU7; Expires=Tue, 21 Mar 2023 10:07:17 GMT; Path=/, AWSALBCORS=+GFfZAvFkKOlf0mTiNp5UqkJtwHkiEpxSlBGkE8i/ODHZfEMXcCc6Y2uBe/jeM8IPGPyQOMgUHOatgR3B5+0BAyEjkfNHzRF2q27Nu18Zc2kPCuT6XMQpKLTMrU7; Expires=Tue, 21 Mar 2023 10:07:17 GMT; Path=/; SameSite=None; Secure', 'X-Content-Type-Options': 'nosniff', 'Vary': 'Authorization', 'X-Frame-Options': 'SAMEORIGIN', 'Server': 'Splunkd'})\n",
      "pushing oslat-16787871683462472.json to splunk\n"
     ]
    },
    {
     "name": "stderr",
     "output_type": "stream",
     "text": [
      "/home/alugasi/tasks/google data studio/code/data/lib/python3.10/site-packages/urllib3/connectionpool.py:1045: InsecureRequestWarning: Unverified HTTPS request is being made to host 'splunk-hec.prod.utility-us-east-2.redhat.com'. Adding certificate verification is strongly advised. See: https://urllib3.readthedocs.io/en/1.26.x/advanced-usage.html#ssl-warnings\n",
      "  warnings.warn(\n"
     ]
    },
    {
     "name": "stdout",
     "output_type": "stream",
     "text": [
      "(200, '{\"text\":\"Success\",\"code\":0}', {'Date': 'Tue, 14 Mar 2023 10:07:19 GMT', 'Content-Type': 'application/json; charset=UTF-8', 'Content-Length': '27', 'Connection': 'keep-alive', 'Set-Cookie': 'AWSALB=CcUcnnbEfcGKz1wdEeKhCQdpjqqxaW3gl+GwpOB3t125uhBVvpHqTkmeCSpL1fq46yEjE/ycCJBe17ex030HeRgZTU3e0NEHkawbHtoqsRvQcbtdcCUALk7daoC3; Expires=Tue, 21 Mar 2023 10:07:19 GMT; Path=/, AWSALBCORS=CcUcnnbEfcGKz1wdEeKhCQdpjqqxaW3gl+GwpOB3t125uhBVvpHqTkmeCSpL1fq46yEjE/ycCJBe17ex030HeRgZTU3e0NEHkawbHtoqsRvQcbtdcCUALk7daoC3; Expires=Tue, 21 Mar 2023 10:07:19 GMT; Path=/; SameSite=None; Secure', 'X-Content-Type-Options': 'nosniff', 'Vary': 'Authorization', 'X-Frame-Options': 'SAMEORIGIN', 'Server': 'Splunkd'})\n",
      "pushing oslat-16787871683474827.json to splunk\n"
     ]
    },
    {
     "name": "stderr",
     "output_type": "stream",
     "text": [
      "/home/alugasi/tasks/google data studio/code/data/lib/python3.10/site-packages/urllib3/connectionpool.py:1045: InsecureRequestWarning: Unverified HTTPS request is being made to host 'splunk-hec.prod.utility-us-east-2.redhat.com'. Adding certificate verification is strongly advised. See: https://urllib3.readthedocs.io/en/1.26.x/advanced-usage.html#ssl-warnings\n",
      "  warnings.warn(\n"
     ]
    },
    {
     "name": "stdout",
     "output_type": "stream",
     "text": [
      "(200, '{\"text\":\"Success\",\"code\":0}', {'Date': 'Tue, 14 Mar 2023 10:07:20 GMT', 'Content-Type': 'application/json; charset=UTF-8', 'Content-Length': '27', 'Connection': 'keep-alive', 'Set-Cookie': 'AWSALB=iqtxYb2qJYYKFISQ6dPy4mGQcQvQN5wWVgrP15iOoumkthVggwA4/OPLa5Y8WAXFZvy4m2XzttYt9SzApUi8gnp94g+mZLlT5uEdiJqI8zROJxpXNCS6kFdrcN37; Expires=Tue, 21 Mar 2023 10:07:20 GMT; Path=/, AWSALBCORS=iqtxYb2qJYYKFISQ6dPy4mGQcQvQN5wWVgrP15iOoumkthVggwA4/OPLa5Y8WAXFZvy4m2XzttYt9SzApUi8gnp94g+mZLlT5uEdiJqI8zROJxpXNCS6kFdrcN37; Expires=Tue, 21 Mar 2023 10:07:20 GMT; Path=/; SameSite=None; Secure', 'X-Content-Type-Options': 'nosniff', 'Vary': 'Authorization', 'X-Frame-Options': 'SAMEORIGIN', 'Server': 'Splunkd'})\n",
      "pushing oslat-16787871683488545.json to splunk\n"
     ]
    },
    {
     "name": "stderr",
     "output_type": "stream",
     "text": [
      "/home/alugasi/tasks/google data studio/code/data/lib/python3.10/site-packages/urllib3/connectionpool.py:1045: InsecureRequestWarning: Unverified HTTPS request is being made to host 'splunk-hec.prod.utility-us-east-2.redhat.com'. Adding certificate verification is strongly advised. See: https://urllib3.readthedocs.io/en/1.26.x/advanced-usage.html#ssl-warnings\n",
      "  warnings.warn(\n"
     ]
    },
    {
     "name": "stdout",
     "output_type": "stream",
     "text": [
      "(200, '{\"text\":\"Success\",\"code\":0}', {'Date': 'Tue, 14 Mar 2023 10:07:21 GMT', 'Content-Type': 'application/json; charset=UTF-8', 'Content-Length': '27', 'Connection': 'keep-alive', 'Set-Cookie': 'AWSALB=vba4tL+KOzADYBCHPUTldYR6ymecDmwetsnhh2YnhZhTC+A28MiDqwtwsAaIuU4DHZ928gFq9ViOUff2HaMC0amUTZiPe/mWPLH7Mzyr1R4bTM5F1wyFSwUAjgaf; Expires=Tue, 21 Mar 2023 10:07:21 GMT; Path=/, AWSALBCORS=vba4tL+KOzADYBCHPUTldYR6ymecDmwetsnhh2YnhZhTC+A28MiDqwtwsAaIuU4DHZ928gFq9ViOUff2HaMC0amUTZiPe/mWPLH7Mzyr1R4bTM5F1wyFSwUAjgaf; Expires=Tue, 21 Mar 2023 10:07:21 GMT; Path=/; SameSite=None; Secure', 'X-Content-Type-Options': 'nosniff', 'Vary': 'Authorization', 'X-Frame-Options': 'SAMEORIGIN', 'Server': 'Splunkd'})\n",
      "pushing oslat-16787871683501902.json to splunk\n"
     ]
    },
    {
     "name": "stderr",
     "output_type": "stream",
     "text": [
      "/home/alugasi/tasks/google data studio/code/data/lib/python3.10/site-packages/urllib3/connectionpool.py:1045: InsecureRequestWarning: Unverified HTTPS request is being made to host 'splunk-hec.prod.utility-us-east-2.redhat.com'. Adding certificate verification is strongly advised. See: https://urllib3.readthedocs.io/en/1.26.x/advanced-usage.html#ssl-warnings\n",
      "  warnings.warn(\n"
     ]
    },
    {
     "name": "stdout",
     "output_type": "stream",
     "text": [
      "(200, '{\"text\":\"Success\",\"code\":0}', {'Date': 'Tue, 14 Mar 2023 10:07:22 GMT', 'Content-Type': 'application/json; charset=UTF-8', 'Content-Length': '27', 'Connection': 'keep-alive', 'Set-Cookie': 'AWSALB=pnfzDcSVvrmHct5I3L4Clk7QsNHfhInzDhiEOnDvnI+VoQ3OwLEdZaE3LFIQTyzFfQIakHVOCTa4Eq5zOU8SmIudukPQ7e8LYcvXrsfSmuibD7yoxk8w4bD/nWFz; Expires=Tue, 21 Mar 2023 10:07:22 GMT; Path=/, AWSALBCORS=pnfzDcSVvrmHct5I3L4Clk7QsNHfhInzDhiEOnDvnI+VoQ3OwLEdZaE3LFIQTyzFfQIakHVOCTa4Eq5zOU8SmIudukPQ7e8LYcvXrsfSmuibD7yoxk8w4bD/nWFz; Expires=Tue, 21 Mar 2023 10:07:22 GMT; Path=/; SameSite=None; Secure', 'X-Content-Type-Options': 'nosniff', 'Vary': 'Authorization', 'X-Frame-Options': 'SAMEORIGIN', 'Server': 'Splunkd'})\n",
      "pushing oslat-16787871683515813.json to splunk\n"
     ]
    },
    {
     "name": "stderr",
     "output_type": "stream",
     "text": [
      "/home/alugasi/tasks/google data studio/code/data/lib/python3.10/site-packages/urllib3/connectionpool.py:1045: InsecureRequestWarning: Unverified HTTPS request is being made to host 'splunk-hec.prod.utility-us-east-2.redhat.com'. Adding certificate verification is strongly advised. See: https://urllib3.readthedocs.io/en/1.26.x/advanced-usage.html#ssl-warnings\n",
      "  warnings.warn(\n"
     ]
    },
    {
     "name": "stdout",
     "output_type": "stream",
     "text": [
      "(200, '{\"text\":\"Success\",\"code\":0}', {'Date': 'Tue, 14 Mar 2023 10:07:23 GMT', 'Content-Type': 'application/json; charset=UTF-8', 'Content-Length': '27', 'Connection': 'keep-alive', 'Set-Cookie': 'AWSALB=SWx+7UEY66E/+ZLziLE/MhD11LU1l4nDzi3fCMNW9qcF1jF+rFuSkBAyzsDZjxHOGnMR9b8H4omkDjNq8BgIXyw0Q/xBk5oLFChaixiN6xi24RlsIrySI9n02VBg; Expires=Tue, 21 Mar 2023 10:07:23 GMT; Path=/, AWSALBCORS=SWx+7UEY66E/+ZLziLE/MhD11LU1l4nDzi3fCMNW9qcF1jF+rFuSkBAyzsDZjxHOGnMR9b8H4omkDjNq8BgIXyw0Q/xBk5oLFChaixiN6xi24RlsIrySI9n02VBg; Expires=Tue, 21 Mar 2023 10:07:23 GMT; Path=/; SameSite=None; Secure', 'X-Content-Type-Options': 'nosniff', 'Vary': 'Authorization', 'X-Frame-Options': 'SAMEORIGIN', 'Server': 'Splunkd'})\n",
      "pushing oslat-16787871683532631.json to splunk\n"
     ]
    },
    {
     "name": "stderr",
     "output_type": "stream",
     "text": [
      "/home/alugasi/tasks/google data studio/code/data/lib/python3.10/site-packages/urllib3/connectionpool.py:1045: InsecureRequestWarning: Unverified HTTPS request is being made to host 'splunk-hec.prod.utility-us-east-2.redhat.com'. Adding certificate verification is strongly advised. See: https://urllib3.readthedocs.io/en/1.26.x/advanced-usage.html#ssl-warnings\n",
      "  warnings.warn(\n"
     ]
    },
    {
     "name": "stdout",
     "output_type": "stream",
     "text": [
      "(200, '{\"text\":\"Success\",\"code\":0}', {'Date': 'Tue, 14 Mar 2023 10:07:24 GMT', 'Content-Type': 'application/json; charset=UTF-8', 'Content-Length': '27', 'Connection': 'keep-alive', 'Set-Cookie': 'AWSALB=mni+ZlI94JJLed692CJNUUec/w6jhGa4M+PzBBl+/Bmph8jYFpIuBvgDAb+I6A6z/DMmyOcK5ZpatJr/1jkPPk/r3BQl4Ern6hZhBBr7aQUD45zkKG1KfP3GU6lz; Expires=Tue, 21 Mar 2023 10:07:24 GMT; Path=/, AWSALBCORS=mni+ZlI94JJLed692CJNUUec/w6jhGa4M+PzBBl+/Bmph8jYFpIuBvgDAb+I6A6z/DMmyOcK5ZpatJr/1jkPPk/r3BQl4Ern6hZhBBr7aQUD45zkKG1KfP3GU6lz; Expires=Tue, 21 Mar 2023 10:07:24 GMT; Path=/; SameSite=None; Secure', 'X-Content-Type-Options': 'nosniff', 'Vary': 'Authorization', 'X-Frame-Options': 'SAMEORIGIN', 'Server': 'Splunkd'})\n",
      "pushing oslat-1678787168354785.json to splunk\n"
     ]
    },
    {
     "name": "stderr",
     "output_type": "stream",
     "text": [
      "/home/alugasi/tasks/google data studio/code/data/lib/python3.10/site-packages/urllib3/connectionpool.py:1045: InsecureRequestWarning: Unverified HTTPS request is being made to host 'splunk-hec.prod.utility-us-east-2.redhat.com'. Adding certificate verification is strongly advised. See: https://urllib3.readthedocs.io/en/1.26.x/advanced-usage.html#ssl-warnings\n",
      "  warnings.warn(\n"
     ]
    },
    {
     "name": "stdout",
     "output_type": "stream",
     "text": [
      "(200, '{\"text\":\"Success\",\"code\":0}', {'Date': 'Tue, 14 Mar 2023 10:07:25 GMT', 'Content-Type': 'application/json; charset=UTF-8', 'Content-Length': '27', 'Connection': 'keep-alive', 'Set-Cookie': 'AWSALB=lBxSw+OzgTmxdYBE59ufxKeZ0LLWRA6YsfqpCf/Ye+MOLLyYGYPfXmCk9Cu20Ll2QC3X0+XT4+3jVSrsksGNmRTXgc+n79ihs8zn8n+BuGihYtyWalkyonMlvxo6; Expires=Tue, 21 Mar 2023 10:07:25 GMT; Path=/, AWSALBCORS=lBxSw+OzgTmxdYBE59ufxKeZ0LLWRA6YsfqpCf/Ye+MOLLyYGYPfXmCk9Cu20Ll2QC3X0+XT4+3jVSrsksGNmRTXgc+n79ihs8zn8n+BuGihYtyWalkyonMlvxo6; Expires=Tue, 21 Mar 2023 10:07:25 GMT; Path=/; SameSite=None; Secure', 'X-Content-Type-Options': 'nosniff', 'Vary': 'Authorization', 'X-Frame-Options': 'SAMEORIGIN', 'Server': 'Splunkd'})\n",
      "pushing oslat-16787881987131965.json to splunk\n"
     ]
    },
    {
     "name": "stderr",
     "output_type": "stream",
     "text": [
      "/home/alugasi/tasks/google data studio/code/data/lib/python3.10/site-packages/urllib3/connectionpool.py:1045: InsecureRequestWarning: Unverified HTTPS request is being made to host 'splunk-hec.prod.utility-us-east-2.redhat.com'. Adding certificate verification is strongly advised. See: https://urllib3.readthedocs.io/en/1.26.x/advanced-usage.html#ssl-warnings\n",
      "  warnings.warn(\n"
     ]
    },
    {
     "name": "stdout",
     "output_type": "stream",
     "text": [
      "(200, '{\"text\":\"Success\",\"code\":0}', {'Date': 'Tue, 14 Mar 2023 10:07:27 GMT', 'Content-Type': 'application/json; charset=UTF-8', 'Content-Length': '27', 'Connection': 'keep-alive', 'Set-Cookie': 'AWSALB=3RJqAj70BEPPYf2l7YgZzcRqIdo+8m3oQ0+plecT7Mhk6bO+71dnyFImg4azck2FHyynLK76HP3ijdeHaVnUIhggR9/eBPFCVAssWmYNy1Zr0LUZbRf0YjBNRlQC; Expires=Tue, 21 Mar 2023 10:07:27 GMT; Path=/, AWSALBCORS=3RJqAj70BEPPYf2l7YgZzcRqIdo+8m3oQ0+plecT7Mhk6bO+71dnyFImg4azck2FHyynLK76HP3ijdeHaVnUIhggR9/eBPFCVAssWmYNy1Zr0LUZbRf0YjBNRlQC; Expires=Tue, 21 Mar 2023 10:07:27 GMT; Path=/; SameSite=None; Secure', 'X-Content-Type-Options': 'nosniff', 'Vary': 'Authorization', 'X-Frame-Options': 'SAMEORIGIN', 'Server': 'Splunkd'})\n",
      "pushing oslat-16787881987155182.json to splunk\n"
     ]
    },
    {
     "name": "stderr",
     "output_type": "stream",
     "text": [
      "/home/alugasi/tasks/google data studio/code/data/lib/python3.10/site-packages/urllib3/connectionpool.py:1045: InsecureRequestWarning: Unverified HTTPS request is being made to host 'splunk-hec.prod.utility-us-east-2.redhat.com'. Adding certificate verification is strongly advised. See: https://urllib3.readthedocs.io/en/1.26.x/advanced-usage.html#ssl-warnings\n",
      "  warnings.warn(\n"
     ]
    },
    {
     "name": "stdout",
     "output_type": "stream",
     "text": [
      "(200, '{\"text\":\"Success\",\"code\":0}', {'Date': 'Tue, 14 Mar 2023 10:07:28 GMT', 'Content-Type': 'application/json; charset=UTF-8', 'Content-Length': '27', 'Connection': 'keep-alive', 'Set-Cookie': 'AWSALB=pwaEtBA4YImszljDEB1xYEhXanvm6WnAqgfc6w7cuLHaHti7wf04vcxlEyRDYrkKN2b57f31SdrKkxcfS6R2sYvfc4bduLsxVIFuEfs2bs9ddbLiSC2LUO7hLME4; Expires=Tue, 21 Mar 2023 10:07:28 GMT; Path=/, AWSALBCORS=pwaEtBA4YImszljDEB1xYEhXanvm6WnAqgfc6w7cuLHaHti7wf04vcxlEyRDYrkKN2b57f31SdrKkxcfS6R2sYvfc4bduLsxVIFuEfs2bs9ddbLiSC2LUO7hLME4; Expires=Tue, 21 Mar 2023 10:07:28 GMT; Path=/; SameSite=None; Secure', 'X-Content-Type-Options': 'nosniff', 'Vary': 'Authorization', 'X-Frame-Options': 'SAMEORIGIN', 'Server': 'Splunkd'})\n",
      "pushing oslat-167878819871695.json to splunk\n"
     ]
    },
    {
     "name": "stderr",
     "output_type": "stream",
     "text": [
      "/home/alugasi/tasks/google data studio/code/data/lib/python3.10/site-packages/urllib3/connectionpool.py:1045: InsecureRequestWarning: Unverified HTTPS request is being made to host 'splunk-hec.prod.utility-us-east-2.redhat.com'. Adding certificate verification is strongly advised. See: https://urllib3.readthedocs.io/en/1.26.x/advanced-usage.html#ssl-warnings\n",
      "  warnings.warn(\n"
     ]
    },
    {
     "name": "stdout",
     "output_type": "stream",
     "text": [
      "(200, '{\"text\":\"Success\",\"code\":0}', {'Date': 'Tue, 14 Mar 2023 10:07:28 GMT', 'Content-Type': 'application/json; charset=UTF-8', 'Content-Length': '27', 'Connection': 'keep-alive', 'Set-Cookie': 'AWSALB=Pt03GERoebUKKf0dg4W8GrAB/IHF7FyvhFr1OjL4PfxZ+x07OEWmFv5LwqS99nBvz8JcH0hpH8eNc2K4lQlopY6+Fp/PHayKW9m4V5QCnjl8vQutNa0+UnbGltrB; Expires=Tue, 21 Mar 2023 10:07:28 GMT; Path=/, AWSALBCORS=Pt03GERoebUKKf0dg4W8GrAB/IHF7FyvhFr1OjL4PfxZ+x07OEWmFv5LwqS99nBvz8JcH0hpH8eNc2K4lQlopY6+Fp/PHayKW9m4V5QCnjl8vQutNa0+UnbGltrB; Expires=Tue, 21 Mar 2023 10:07:28 GMT; Path=/; SameSite=None; Secure', 'X-Content-Type-Options': 'nosniff', 'Vary': 'Authorization', 'X-Frame-Options': 'SAMEORIGIN', 'Server': 'Splunkd'})\n",
      "pushing oslat-16787881987181933.json to splunk\n"
     ]
    },
    {
     "name": "stderr",
     "output_type": "stream",
     "text": [
      "/home/alugasi/tasks/google data studio/code/data/lib/python3.10/site-packages/urllib3/connectionpool.py:1045: InsecureRequestWarning: Unverified HTTPS request is being made to host 'splunk-hec.prod.utility-us-east-2.redhat.com'. Adding certificate verification is strongly advised. See: https://urllib3.readthedocs.io/en/1.26.x/advanced-usage.html#ssl-warnings\n",
      "  warnings.warn(\n"
     ]
    },
    {
     "name": "stdout",
     "output_type": "stream",
     "text": [
      "(200, '{\"text\":\"Success\",\"code\":0}', {'Date': 'Tue, 14 Mar 2023 10:07:29 GMT', 'Content-Type': 'application/json; charset=UTF-8', 'Content-Length': '27', 'Connection': 'keep-alive', 'Set-Cookie': 'AWSALB=nG+XpGivi/tTpr04mXIUmVLZDwsOAhy63tcUOjNnOI545xGV4D3VdwClC3b5qLXl7a2K1ItZuIibyly5cuItcv9VrsZacEkIWUTipji/vUQjf2J10P0HL+IHYtWe; Expires=Tue, 21 Mar 2023 10:07:29 GMT; Path=/, AWSALBCORS=nG+XpGivi/tTpr04mXIUmVLZDwsOAhy63tcUOjNnOI545xGV4D3VdwClC3b5qLXl7a2K1ItZuIibyly5cuItcv9VrsZacEkIWUTipji/vUQjf2J10P0HL+IHYtWe; Expires=Tue, 21 Mar 2023 10:07:29 GMT; Path=/; SameSite=None; Secure', 'X-Content-Type-Options': 'nosniff', 'Vary': 'Authorization', 'X-Frame-Options': 'SAMEORIGIN', 'Server': 'Splunkd'})\n",
      "pushing oslat-1678788198719408.json to splunk\n"
     ]
    },
    {
     "name": "stderr",
     "output_type": "stream",
     "text": [
      "/home/alugasi/tasks/google data studio/code/data/lib/python3.10/site-packages/urllib3/connectionpool.py:1045: InsecureRequestWarning: Unverified HTTPS request is being made to host 'splunk-hec.prod.utility-us-east-2.redhat.com'. Adding certificate verification is strongly advised. See: https://urllib3.readthedocs.io/en/1.26.x/advanced-usage.html#ssl-warnings\n",
      "  warnings.warn(\n"
     ]
    },
    {
     "name": "stdout",
     "output_type": "stream",
     "text": [
      "(200, '{\"text\":\"Success\",\"code\":0}', {'Date': 'Tue, 14 Mar 2023 10:07:30 GMT', 'Content-Type': 'application/json; charset=UTF-8', 'Content-Length': '27', 'Connection': 'keep-alive', 'Set-Cookie': 'AWSALB=bBZKJRB7e2JYwxyGuZZvxKjos1EbPzPrAaXRYV+lq3tvgX742yl8BvVD8A5ir8Bim/P5+HPB3iivn8huE/z4BOBQULiPDLErlNlR4iM+QgWObZQ/qnmev4KNI+v/; Expires=Tue, 21 Mar 2023 10:07:30 GMT; Path=/, AWSALBCORS=bBZKJRB7e2JYwxyGuZZvxKjos1EbPzPrAaXRYV+lq3tvgX742yl8BvVD8A5ir8Bim/P5+HPB3iivn8huE/z4BOBQULiPDLErlNlR4iM+QgWObZQ/qnmev4KNI+v/; Expires=Tue, 21 Mar 2023 10:07:30 GMT; Path=/; SameSite=None; Secure', 'X-Content-Type-Options': 'nosniff', 'Vary': 'Authorization', 'X-Frame-Options': 'SAMEORIGIN', 'Server': 'Splunkd'})\n",
      "pushing oslat-16787881987206824.json to splunk\n"
     ]
    },
    {
     "name": "stderr",
     "output_type": "stream",
     "text": [
      "/home/alugasi/tasks/google data studio/code/data/lib/python3.10/site-packages/urllib3/connectionpool.py:1045: InsecureRequestWarning: Unverified HTTPS request is being made to host 'splunk-hec.prod.utility-us-east-2.redhat.com'. Adding certificate verification is strongly advised. See: https://urllib3.readthedocs.io/en/1.26.x/advanced-usage.html#ssl-warnings\n",
      "  warnings.warn(\n"
     ]
    },
    {
     "name": "stdout",
     "output_type": "stream",
     "text": [
      "(200, '{\"text\":\"Success\",\"code\":0}', {'Date': 'Tue, 14 Mar 2023 10:07:31 GMT', 'Content-Type': 'application/json; charset=UTF-8', 'Content-Length': '27', 'Connection': 'keep-alive', 'Set-Cookie': 'AWSALB=nJLbd/fXjKb0bBEyUtjtGfyL67x1BxUT5yU5QHAlLD9WaVd9OPB0Z+E6lfm6wE6XdfcTe+53NdFQD9hoBf96vXIEHVHXg2hCePICcF7Z4bPUhh7DIaofCWGix/LG; Expires=Tue, 21 Mar 2023 10:07:31 GMT; Path=/, AWSALBCORS=nJLbd/fXjKb0bBEyUtjtGfyL67x1BxUT5yU5QHAlLD9WaVd9OPB0Z+E6lfm6wE6XdfcTe+53NdFQD9hoBf96vXIEHVHXg2hCePICcF7Z4bPUhh7DIaofCWGix/LG; Expires=Tue, 21 Mar 2023 10:07:31 GMT; Path=/; SameSite=None; Secure', 'X-Content-Type-Options': 'nosniff', 'Vary': 'Authorization', 'X-Frame-Options': 'SAMEORIGIN', 'Server': 'Splunkd'})\n",
      "pushing oslat-16787881987226253.json to splunk\n"
     ]
    },
    {
     "name": "stderr",
     "output_type": "stream",
     "text": [
      "/home/alugasi/tasks/google data studio/code/data/lib/python3.10/site-packages/urllib3/connectionpool.py:1045: InsecureRequestWarning: Unverified HTTPS request is being made to host 'splunk-hec.prod.utility-us-east-2.redhat.com'. Adding certificate verification is strongly advised. See: https://urllib3.readthedocs.io/en/1.26.x/advanced-usage.html#ssl-warnings\n",
      "  warnings.warn(\n"
     ]
    },
    {
     "name": "stdout",
     "output_type": "stream",
     "text": [
      "(200, '{\"text\":\"Success\",\"code\":0}', {'Date': 'Tue, 14 Mar 2023 10:07:32 GMT', 'Content-Type': 'application/json; charset=UTF-8', 'Content-Length': '27', 'Connection': 'keep-alive', 'Set-Cookie': 'AWSALB=mAV2/jfs9frCESpjLqlS85P2Y885Rz7BtOIhxEOehVdj2hkZTlVRpmj2LD1UTpm8O9wfBV023O2iWU02N+ANpAXsUFU7abUmlwJC6USkS/3RU/jlEuZYubqBnCgD; Expires=Tue, 21 Mar 2023 10:07:32 GMT; Path=/, AWSALBCORS=mAV2/jfs9frCESpjLqlS85P2Y885Rz7BtOIhxEOehVdj2hkZTlVRpmj2LD1UTpm8O9wfBV023O2iWU02N+ANpAXsUFU7abUmlwJC6USkS/3RU/jlEuZYubqBnCgD; Expires=Tue, 21 Mar 2023 10:07:32 GMT; Path=/; SameSite=None; Secure', 'X-Content-Type-Options': 'nosniff', 'Vary': 'Authorization', 'X-Frame-Options': 'SAMEORIGIN', 'Server': 'Splunkd'})\n",
      "pushing oslat-1678788198724117.json to splunk\n"
     ]
    },
    {
     "name": "stderr",
     "output_type": "stream",
     "text": [
      "/home/alugasi/tasks/google data studio/code/data/lib/python3.10/site-packages/urllib3/connectionpool.py:1045: InsecureRequestWarning: Unverified HTTPS request is being made to host 'splunk-hec.prod.utility-us-east-2.redhat.com'. Adding certificate verification is strongly advised. See: https://urllib3.readthedocs.io/en/1.26.x/advanced-usage.html#ssl-warnings\n",
      "  warnings.warn(\n"
     ]
    },
    {
     "name": "stdout",
     "output_type": "stream",
     "text": [
      "(200, '{\"text\":\"Success\",\"code\":0}', {'Date': 'Tue, 14 Mar 2023 10:07:33 GMT', 'Content-Type': 'application/json; charset=UTF-8', 'Content-Length': '27', 'Connection': 'keep-alive', 'Set-Cookie': 'AWSALB=QMHENip8UI58xjDqiOk5xGL8PlgUr6e8EMkbDCC+vNCovtE9PEXb/sgbUrfHFohwopULhEaUKa1K5Kn+iiyGqkcltEDzDvP3PeVMdtcSACrJeCZxuPvCClpa8Bn+; Expires=Tue, 21 Mar 2023 10:07:33 GMT; Path=/, AWSALBCORS=QMHENip8UI58xjDqiOk5xGL8PlgUr6e8EMkbDCC+vNCovtE9PEXb/sgbUrfHFohwopULhEaUKa1K5Kn+iiyGqkcltEDzDvP3PeVMdtcSACrJeCZxuPvCClpa8Bn+; Expires=Tue, 21 Mar 2023 10:07:33 GMT; Path=/; SameSite=None; Secure', 'X-Content-Type-Options': 'nosniff', 'Vary': 'Authorization', 'X-Frame-Options': 'SAMEORIGIN', 'Server': 'Splunkd'})\n",
      "pushing oslat-16787881987255325.json to splunk\n"
     ]
    },
    {
     "name": "stderr",
     "output_type": "stream",
     "text": [
      "/home/alugasi/tasks/google data studio/code/data/lib/python3.10/site-packages/urllib3/connectionpool.py:1045: InsecureRequestWarning: Unverified HTTPS request is being made to host 'splunk-hec.prod.utility-us-east-2.redhat.com'. Adding certificate verification is strongly advised. See: https://urllib3.readthedocs.io/en/1.26.x/advanced-usage.html#ssl-warnings\n",
      "  warnings.warn(\n"
     ]
    },
    {
     "name": "stdout",
     "output_type": "stream",
     "text": [
      "(200, '{\"text\":\"Success\",\"code\":0}', {'Date': 'Tue, 14 Mar 2023 10:07:34 GMT', 'Content-Type': 'application/json; charset=UTF-8', 'Content-Length': '27', 'Connection': 'keep-alive', 'Set-Cookie': 'AWSALB=f1JpTicY+9oIBbMRAROcCnXLVJPXIxGDp0GOqpHmdDYHpjbeiOv+iKYdUFd/TQRyb64wAzAKbpcaNfJoT+yg8hJcJ98xx0tX6SUIKL+dp2YPGHSfHMpiJIFg8NQH; Expires=Tue, 21 Mar 2023 10:07:34 GMT; Path=/, AWSALBCORS=f1JpTicY+9oIBbMRAROcCnXLVJPXIxGDp0GOqpHmdDYHpjbeiOv+iKYdUFd/TQRyb64wAzAKbpcaNfJoT+yg8hJcJ98xx0tX6SUIKL+dp2YPGHSfHMpiJIFg8NQH; Expires=Tue, 21 Mar 2023 10:07:34 GMT; Path=/; SameSite=None; Secure', 'X-Content-Type-Options': 'nosniff', 'Vary': 'Authorization', 'X-Frame-Options': 'SAMEORIGIN', 'Server': 'Splunkd'})\n"
     ]
    }
   ],
   "source": [
    "json_files = list_files(\"ExtractTestsResults/JsonTestsFolders/oslats\")\n",
    "\n",
    "for file in json_files:\n",
    "    json_file_file = \"ExtractTestsResults/JsonTestsFolders/oslats/\" + file\n",
    "    cmd = ['python3', 'splunkHecPush.py',  '-j', json_file_file, '-i', 'ecosystem-qe-dev', '-t' ,'94eeb2f9-8e5f-4c86-adec-336b3368c74e']\n",
    "    print(\"pushing {} to splunk\".format(file))\n",
    "    run(cmd)"
   ]
  }
 ],
 "metadata": {
  "kernelspec": {
   "display_name": "Python 3.10.6 ('data': venv)",
   "language": "python",
   "name": "python3"
  },
  "language_info": {
   "codemirror_mode": {
    "name": "ipython",
    "version": 3
   },
   "file_extension": ".py",
   "mimetype": "text/x-python",
   "name": "python",
   "nbconvert_exporter": "python",
   "pygments_lexer": "ipython3",
   "version": "3.10.6"
  },
  "orig_nbformat": 4,
  "vscode": {
   "interpreter": {
    "hash": "36996c97f3a513c7539113157ff2a07191b199a8c1a7349bbd76d49dcb155f46"
   }
  }
 },
 "nbformat": 4,
 "nbformat_minor": 2
}
