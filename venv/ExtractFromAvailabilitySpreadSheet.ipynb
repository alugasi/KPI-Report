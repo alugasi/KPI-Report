{
 "cells": [
  {
   "cell_type": "code",
   "execution_count": 22,
   "metadata": {},
   "outputs": [],
   "source": [
    "#include json and os librareries\n",
    "import json\n",
    "import time\n",
    "import pandas as pd\n",
    "import os\n",
    "from subprocess import run"
   ]
  },
  {
   "cell_type": "code",
   "execution_count": 28,
   "metadata": {},
   "outputs": [],
   "source": [
    "####Globals:\n",
    "JSON_DIR=\"ExtractTestsResults/JsonTestsFolders/cyclicts/cyclictest-\"\n",
    "TEST_TYPE = \"cyclictest\"\n",
    "\n",
    "############################################################################\n",
    "#                                                                          #\n",
    "#                    #################################                     #\n",
    "#                    #      Helper functions         #                     #\n",
    "#                    #################################                     #\n",
    "#                                                                          #\n",
    "############################################################################\n",
    "\n",
    "def create_json(results_dict:dict, JSON_DIR:str):\n",
    "    #create json object\n",
    "    #add uniuqe id to file name (using unix time)\n",
    "    timestamp = str(time.time()).replace('.', '')\n",
    "    # open a file and write the JSON data to it\n",
    "    with open(JSON_DIR+timestamp+\".json\", \"w\") as json_file:\n",
    "        json.dump(results_dict, json_file)\n",
    "\n",
    "def list_files(path):\n",
    "    \"\"\"\n",
    "    Return a list of all json file names in the specified folder.\n",
    "    \"\"\"\n",
    "    files = []\n",
    "    for file in os.listdir(path):\n",
    "        if os.path.isfile(os.path.join(path, file)):\n",
    "            files.append(file)\n",
    "    return files\n",
    "\n",
    "def extract_test_units(results_dict:dict, test_units_df):\n",
    "    \"\"\"\n",
    "    extract all test units metrics(thread/cores) of a specific test, and update them in the result dict.\\n\n",
    "    params:\n",
    "        -results_dict(dict)-dict that contains test parameters and metrics.\\n\n",
    "        -test_units_df(dataframe)- dataframe that contains specific test's test units metrics.\\n\n",
    "    returns: updated dict that contains test parameters and metrics.\\n.\n",
    "    \"\"\"\n",
    "    test_units_list = []\n",
    "    for _, row in test_units_df.iterrows():\n",
    "        test_units_list.append({\"index\":row[\"Index\"], \n",
    "            \"max_latency\":row[\"Max\"], \n",
    "            \"min_latency\":row[\"Min\"], \n",
    "            \"avg_latency\":row[\"Avg\"], \n",
    "            \"availability\":row[\"Availability\"], \n",
    "            \"number_of_nines\":row[\"Number of Nines\"]})\n",
    "\n",
    "    results_dict[\"test_units\"] = test_units_list\n",
    "\n",
    "    return results_dict   \n"
   ]
  },
  {
   "cell_type": "code",
   "execution_count": 36,
   "metadata": {},
   "outputs": [],
   "source": [
    "availabilty_df = pd.read_csv(\"spreadsheets/RAN QE Performance KPIs - cyclictest.csv\").fillna(\"\")\n",
    "availabilty_df = availabilty_df.loc[~availabilty_df[\"OCP Version\"].isin(['4.11.0-rc.1', '4.10.23', '4.11.0-rc.5', '4.11.6',\n",
    "       '4.12.0-0.nightly-2022-10-24-103753-spr',\n",
    "       '4.12.0-0.nightly-2022-10-24-103753',\n",
    "       '4.12.0-0.nightly-2022-10-24-103753-telco', '4.12.0-rc.1',\n",
    "       '4.13.0-0.nightly-2023-02-16-120330',\n",
    "       '4.13.0-0.ci.test-2023-03-02-214629-ci-ln-xw171tb-latest'])]\n",
    "\n",
    "availabilty_df[\"Version\"] = availabilty_df[\"Version\"].astype(\"str\")\n",
    "availabilty_df[\"Operator Version\"] = availabilty_df[\"Operator Version\"].astype(\"str\")\n",
    "availabilty_df.loc[availabilty_df[\"Version\"] == \"4.1\", \"Version\"] = \"4.10\"\n",
    "availabilty_df.loc[availabilty_df[\"Operator Version\"] == \"4.1\", \"Operator Version\"] = \"4.10\"\n",
    "if not set([\"Kernel\", \"Sideloaded\"]).issubset(availabilty_df.columns):\n",
    "    availabilty_df[\"Kernel\"] = \"\"\n",
    "    availabilty_df[\"Sideloaded\"] = \"\""
   ]
  },
  {
   "cell_type": "code",
   "execution_count": 38,
   "metadata": {},
   "outputs": [],
   "source": [
    "grouped_availabilty = availabilty_df.groupby([\"Version\", \"OCP Version\"])"
   ]
  },
  {
   "cell_type": "code",
   "execution_count": 39,
   "metadata": {},
   "outputs": [
    {
     "name": "stdout",
     "output_type": "stream",
     "text": [
      "creating json file for ('4.10', '4.10.0-rc.0')\n",
      "creating json file for ('4.10', '4.10.8')\n",
      "creating json file for ('4.11', '4.11.22')\n",
      "creating json file for ('4.12', '4.12.0')\n",
      "creating json file for ('4.12', '4.12.0-rc.7')\n",
      "creating json file for ('4.8', '4.8.15')\n",
      "creating json file for ('4.9', '4.9.0-rc.0')\n",
      "creating json file for ('4.9', '4.9.13-assembly.art3657')\n",
      "creating json file for ('4.9', '4.9.6')\n"
     ]
    }
   ],
   "source": [
    "for version_key, threads in grouped_availabilty:\n",
    "    print(\"creating json file for {}\".format(version_key))\n",
    "    threads = threads.sort_values(by='Index', ascending=True)\n",
    "    results_dict = {}\n",
    "    results_dict[\"ocp_version\"] = threads[\"Version\"].values[0]\n",
    "    results_dict[\"ocp_build\"] = threads[\"OCP Version\"].values[0]\n",
    "    results_dict[\"test_type\"] = TEST_TYPE\n",
    "    results_dict[\"node_name\"] = threads[\"Cluster\"].values[0]\n",
    "    results_dict[\"duration\"] = threads[\"Duration\"].values[0]\n",
    "    results_dict[\"kernel\"] = threads[\"Kernel\"].values[0]\n",
    "    results_dict[\"sideloaded\"] = \"true\" if threads[\"Sideloaded\"].values[0] == \"Yes\" else \"false\" if threads[\"Sideloaded\"].values[0] == \"No\" else \"\" \n",
    "    results_dict[\"operator_version\"] = threads[\"Operator Version\"].values[0]\n",
    "\n",
    "    results_dict = extract_test_units(results_dict=results_dict, test_units_df=threads)\n",
    "    create_json(results_dict=results_dict, JSON_DIR=JSON_DIR)"
   ]
  },
  {
   "cell_type": "code",
   "execution_count": 33,
   "metadata": {},
   "outputs": [
    {
     "data": {
      "text/plain": [
       "array(['4.11.0-rc.1', '4.10.23', '4.11.0-rc.5', '4.11.6',\n",
       "       '4.12.0-0.nightly-2022-10-24-103753-spr',\n",
       "       '4.12.0-0.nightly-2022-10-24-103753',\n",
       "       '4.12.0-0.nightly-2022-10-24-103753-telco', '4.12.0-rc.1',\n",
       "       '4.13.0-0.nightly-2023-02-16-120330',\n",
       "       '4.13.0-0.ci.test-2023-03-02-214629-ci-ln-xw171tb-latest'],\n",
       "      dtype=object)"
      ]
     },
     "execution_count": 33,
     "metadata": {},
     "output_type": "execute_result"
    }
   ],
   "source": [
    "json_files = list_files(\"ExtractTestsResults/JsonTestsFolders/cyclicts\")\n",
    "\n",
    "for file in json_files:\n",
    "    json_file_file = \"ExtractTestsResults/JsonTestsFolders/cyclicts/\" + file\n",
    "    cmd = ['python3', 'splunkHecPush.py',  '-j', json_file_file, '-i', 'ecosystem-qe-dev', '-t' ,'94eeb2f9-8e5f-4c86-adec-336b3368c74e']\n",
    "    print(\"pushing {} to splunk\".format(file))\n",
    "    run(cmd)"
   ]
  }
 ],
 "metadata": {
  "kernelspec": {
   "display_name": "Python 3.10.6 ('data': venv)",
   "language": "python",
   "name": "python3"
  },
  "language_info": {
   "codemirror_mode": {
    "name": "ipython",
    "version": 3
   },
   "file_extension": ".py",
   "mimetype": "text/x-python",
   "name": "python",
   "nbconvert_exporter": "python",
   "pygments_lexer": "ipython3",
   "version": "3.10.6"
  },
  "orig_nbformat": 4,
  "vscode": {
   "interpreter": {
    "hash": "36996c97f3a513c7539113157ff2a07191b199a8c1a7349bbd76d49dcb155f46"
   }
  }
 },
 "nbformat": 4,
 "nbformat_minor": 2
}
