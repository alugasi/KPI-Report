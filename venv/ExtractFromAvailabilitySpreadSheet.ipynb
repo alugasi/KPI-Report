{
 "cells": [
  {
   "cell_type": "code",
   "execution_count": 42,
   "metadata": {},
   "outputs": [],
   "source": [
    "#include json and os librareries\n",
    "import json\n",
    "import time\n",
    "import pandas as pd\n",
    "import os\n",
    "from subprocess import run"
   ]
  },
  {
   "cell_type": "code",
   "execution_count": 43,
   "metadata": {},
   "outputs": [],
   "source": [
    "####Globals:\n",
    "JSON_DIR=\"ExtractTestsResults/JsonTestsFolders/oslats/oslat-\"\n",
    "TEST_TYPE = \"oslat\"\n",
    "\n",
    "############################################################################\n",
    "#                                                                          #\n",
    "#                    #################################                     #\n",
    "#                    #      Helper functions         #                     #\n",
    "#                    #################################                     #\n",
    "#                                                                          #\n",
    "############################################################################\n",
    "\n",
    "def create_json(results_dict:dict, JSON_DIR:str):\n",
    "    #create json object\n",
    "    #add uniuqe id to file name (using unix time)\n",
    "    timestamp = str(time.time()).replace('.', '')\n",
    "    # open a file and write the JSON data to it\n",
    "    with open(JSON_DIR+timestamp+\".json\", \"w\") as json_file:\n",
    "        json.dump(results_dict, json_file)\n",
    "\n",
    "def list_files(path):\n",
    "    \"\"\"\n",
    "    Return a list of all json file names in the specified folder.\n",
    "    \"\"\"\n",
    "    files = []\n",
    "    for file in os.listdir(path):\n",
    "        if os.path.isfile(os.path.join(path, file)):\n",
    "            files.append(file)\n",
    "    return files\n",
    "\n",
    "def extract_test_units(results_dict:dict, test_units_df):\n",
    "    \"\"\"\n",
    "    extract all test units metrics(thread/cores) of a specific test, and update them in the result dict.\\n\n",
    "    params:\n",
    "        -results_dict(dict)-dict that contains test parameters and metrics.\\n\n",
    "        -test_units_df(dataframe)- dataframe that contains specific test's test units metrics.\\n\n",
    "    returns: updated dict that contains test parameters and metrics.\\n.\n",
    "    \"\"\"\n",
    "    test_units_list = []\n",
    "    for _, row in test_units_df.iterrows():\n",
    "        test_units_list.append({\"index\":row[\"Index\"], \n",
    "            \"max_latency\":row[\"Max\"], \n",
    "            \"min_latency\":row[\"Min\"], \n",
    "            \"avg_latency\":row[\"Avg\"], \n",
    "            \"availability\":row[\"Availability\"], \n",
    "            \"number_of_nines\":row[\"Number of Nines\"]})\n",
    "\n",
    "    results_dict[\"test_units\"] = test_units_list\n",
    "\n",
    "    return results_dict   \n"
   ]
  },
  {
   "cell_type": "code",
   "execution_count": 44,
   "metadata": {},
   "outputs": [],
   "source": [
    "availabilty_df = pd.read_csv(\"spreadsheets/Informal - RAN QE Performance KPIs - oslat.csv\").fillna(\"\")\n",
    "#availabilty_df = availabilty_df.loc[~availabilty_df[\"OCP Version\"].isin(['4.11.0-rc.1', '4.10.23', '4.11.0-rc.5', '4.11.6',\n",
    "#      '4.12.0-0.nightly-2022-10-24-103753-spr',\n",
    "#       '4.12.0-0.nightly-2022-10-24-103753',\n",
    "#       '4.12.0-0.nightly-2022-10-24-103753-telco', '4.12.0-rc.1',\n",
    "#       '4.13.0-0.nightly-2023-02-16-120330',\n",
    "#       '4.13.0-0.ci.test-2023-03-02-214629-ci-ln-xw171tb-latest'])]\n",
    "\n",
    "availabilty_df[\"Version\"] = availabilty_df[\"Version\"].astype(\"str\")\n",
    "availabilty_df[\"Operator Version\"] = availabilty_df[\"Operator Version\"].astype(\"str\")\n",
    "availabilty_df.loc[availabilty_df[\"Version\"] == \"4.1\", \"Version\"] = \"4.10\"\n",
    "availabilty_df.loc[availabilty_df[\"Operator Version\"] == \"4.1\", \"Operator Version\"] = \"4.10\"\n",
    "if not set([\"Kernel\", \"Sideloaded\"]).issubset(availabilty_df.columns):\n",
    "    availabilty_df[\"Kernel\"] = \"\"\n",
    "    availabilty_df[\"Sideloaded\"] = \"\""
   ]
  },
  {
   "cell_type": "code",
   "execution_count": 45,
   "metadata": {},
   "outputs": [
    {
     "data": {
      "text/html": [
       "<div>\n",
       "<style scoped>\n",
       "    .dataframe tbody tr th:only-of-type {\n",
       "        vertical-align: middle;\n",
       "    }\n",
       "\n",
       "    .dataframe tbody tr th {\n",
       "        vertical-align: top;\n",
       "    }\n",
       "\n",
       "    .dataframe thead th {\n",
       "        text-align: right;\n",
       "    }\n",
       "</style>\n",
       "<table border=\"1\" class=\"dataframe\">\n",
       "  <thead>\n",
       "    <tr style=\"text-align: right;\">\n",
       "      <th></th>\n",
       "      <th>Version</th>\n",
       "      <th>OCP Version</th>\n",
       "      <th>Operator Version</th>\n",
       "      <th>Index</th>\n",
       "      <th>Max</th>\n",
       "      <th>Min</th>\n",
       "      <th>Avg</th>\n",
       "      <th>Availability</th>\n",
       "      <th>Number of Nines</th>\n",
       "      <th>Cluster</th>\n",
       "      <th>Duration</th>\n",
       "      <th>Kernel</th>\n",
       "      <th>Sideloaded</th>\n",
       "    </tr>\n",
       "  </thead>\n",
       "  <tbody>\n",
       "    <tr>\n",
       "      <th>0</th>\n",
       "      <td>4.11</td>\n",
       "      <td>4.11.0-rc.5</td>\n",
       "      <td>4.11</td>\n",
       "      <td>3</td>\n",
       "      <td>7</td>\n",
       "      <td>1</td>\n",
       "      <td>1</td>\n",
       "      <td>100.0</td>\n",
       "      <td>100</td>\n",
       "      <td>worker-1</td>\n",
       "      <td>8h</td>\n",
       "      <td></td>\n",
       "      <td>No</td>\n",
       "    </tr>\n",
       "    <tr>\n",
       "      <th>1</th>\n",
       "      <td>4.11</td>\n",
       "      <td>4.11.0-rc.5</td>\n",
       "      <td>4.11</td>\n",
       "      <td>4</td>\n",
       "      <td>8</td>\n",
       "      <td>1</td>\n",
       "      <td>1</td>\n",
       "      <td>100.0</td>\n",
       "      <td>100</td>\n",
       "      <td>worker-1</td>\n",
       "      <td>8h</td>\n",
       "      <td></td>\n",
       "      <td>No</td>\n",
       "    </tr>\n",
       "    <tr>\n",
       "      <th>2</th>\n",
       "      <td>4.11</td>\n",
       "      <td>4.11.0-rc.5</td>\n",
       "      <td>4.11</td>\n",
       "      <td>5</td>\n",
       "      <td>7</td>\n",
       "      <td>1</td>\n",
       "      <td>1</td>\n",
       "      <td>100.0</td>\n",
       "      <td>100</td>\n",
       "      <td>worker-1</td>\n",
       "      <td>8h</td>\n",
       "      <td></td>\n",
       "      <td>No</td>\n",
       "    </tr>\n",
       "    <tr>\n",
       "      <th>3</th>\n",
       "      <td>4.11</td>\n",
       "      <td>4.11.0-rc.5</td>\n",
       "      <td>4.11</td>\n",
       "      <td>6</td>\n",
       "      <td>7</td>\n",
       "      <td>1</td>\n",
       "      <td>1</td>\n",
       "      <td>100.0</td>\n",
       "      <td>100</td>\n",
       "      <td>worker-1</td>\n",
       "      <td>8h</td>\n",
       "      <td></td>\n",
       "      <td>No</td>\n",
       "    </tr>\n",
       "    <tr>\n",
       "      <th>4</th>\n",
       "      <td>4.11</td>\n",
       "      <td>4.11.0-rc.5</td>\n",
       "      <td>4.11</td>\n",
       "      <td>0</td>\n",
       "      <td>8</td>\n",
       "      <td>1</td>\n",
       "      <td>1</td>\n",
       "      <td>100.0</td>\n",
       "      <td>100</td>\n",
       "      <td>worker-1</td>\n",
       "      <td>8h</td>\n",
       "      <td></td>\n",
       "      <td>No</td>\n",
       "    </tr>\n",
       "    <tr>\n",
       "      <th>...</th>\n",
       "      <td>...</td>\n",
       "      <td>...</td>\n",
       "      <td>...</td>\n",
       "      <td>...</td>\n",
       "      <td>...</td>\n",
       "      <td>...</td>\n",
       "      <td>...</td>\n",
       "      <td>...</td>\n",
       "      <td>...</td>\n",
       "      <td>...</td>\n",
       "      <td>...</td>\n",
       "      <td>...</td>\n",
       "      <td>...</td>\n",
       "    </tr>\n",
       "    <tr>\n",
       "      <th>149</th>\n",
       "      <td>4.12</td>\n",
       "      <td>4.12.6-SPR</td>\n",
       "      <td>4.12</td>\n",
       "      <td>11</td>\n",
       "      <td>12</td>\n",
       "      <td>1</td>\n",
       "      <td>1</td>\n",
       "      <td>100.0</td>\n",
       "      <td>100</td>\n",
       "      <td>cnfde30</td>\n",
       "      <td>8h</td>\n",
       "      <td>4.18.0-372.46.1.el8_6.x86_64</td>\n",
       "      <td>No</td>\n",
       "    </tr>\n",
       "    <tr>\n",
       "      <th>150</th>\n",
       "      <td>4.12</td>\n",
       "      <td>4.12.6-SPR</td>\n",
       "      <td>4.12</td>\n",
       "      <td>12</td>\n",
       "      <td>12</td>\n",
       "      <td>1</td>\n",
       "      <td>1</td>\n",
       "      <td>100.0</td>\n",
       "      <td>100</td>\n",
       "      <td>cnfde30</td>\n",
       "      <td>8h</td>\n",
       "      <td>4.18.0-372.46.1.el8_6.x86_64</td>\n",
       "      <td>No</td>\n",
       "    </tr>\n",
       "    <tr>\n",
       "      <th>151</th>\n",
       "      <td>4.12</td>\n",
       "      <td>4.12.6-SPR</td>\n",
       "      <td>4.12</td>\n",
       "      <td>13</td>\n",
       "      <td>11</td>\n",
       "      <td>1</td>\n",
       "      <td>1</td>\n",
       "      <td>100.0</td>\n",
       "      <td>100</td>\n",
       "      <td>cnfde30</td>\n",
       "      <td>8h</td>\n",
       "      <td>4.18.0-372.46.1.el8_6.x86_64</td>\n",
       "      <td>No</td>\n",
       "    </tr>\n",
       "    <tr>\n",
       "      <th>152</th>\n",
       "      <td>4.12</td>\n",
       "      <td>4.12.6-SPR</td>\n",
       "      <td>4.12</td>\n",
       "      <td>1</td>\n",
       "      <td>11</td>\n",
       "      <td>1</td>\n",
       "      <td>1</td>\n",
       "      <td>100.0</td>\n",
       "      <td>100</td>\n",
       "      <td>cnfde30</td>\n",
       "      <td>8h</td>\n",
       "      <td>4.18.0-372.46.1.el8_6.x86_64</td>\n",
       "      <td>No</td>\n",
       "    </tr>\n",
       "    <tr>\n",
       "      <th>153</th>\n",
       "      <td>4.12</td>\n",
       "      <td>4.12.6-SPR</td>\n",
       "      <td>4.12</td>\n",
       "      <td>2</td>\n",
       "      <td>11</td>\n",
       "      <td>1</td>\n",
       "      <td>1</td>\n",
       "      <td>100.0</td>\n",
       "      <td>100</td>\n",
       "      <td>cnfde30</td>\n",
       "      <td>8h</td>\n",
       "      <td>4.18.0-372.46.1.el8_6.x86_64</td>\n",
       "      <td>No</td>\n",
       "    </tr>\n",
       "  </tbody>\n",
       "</table>\n",
       "<p>154 rows × 13 columns</p>\n",
       "</div>"
      ],
      "text/plain": [
       "    Version  OCP Version Operator Version  Index  Max  Min  Avg  Availability  \\\n",
       "0      4.11  4.11.0-rc.5             4.11      3    7    1    1         100.0   \n",
       "1      4.11  4.11.0-rc.5             4.11      4    8    1    1         100.0   \n",
       "2      4.11  4.11.0-rc.5             4.11      5    7    1    1         100.0   \n",
       "3      4.11  4.11.0-rc.5             4.11      6    7    1    1         100.0   \n",
       "4      4.11  4.11.0-rc.5             4.11      0    8    1    1         100.0   \n",
       "..      ...          ...              ...    ...  ...  ...  ...           ...   \n",
       "149    4.12   4.12.6-SPR             4.12     11   12    1    1         100.0   \n",
       "150    4.12   4.12.6-SPR             4.12     12   12    1    1         100.0   \n",
       "151    4.12   4.12.6-SPR             4.12     13   11    1    1         100.0   \n",
       "152    4.12   4.12.6-SPR             4.12      1   11    1    1         100.0   \n",
       "153    4.12   4.12.6-SPR             4.12      2   11    1    1         100.0   \n",
       "\n",
       "     Number of Nines   Cluster Duration                        Kernel  \\\n",
       "0                100  worker-1       8h                                 \n",
       "1                100  worker-1       8h                                 \n",
       "2                100  worker-1       8h                                 \n",
       "3                100  worker-1       8h                                 \n",
       "4                100  worker-1       8h                                 \n",
       "..               ...       ...      ...                           ...   \n",
       "149              100   cnfde30       8h  4.18.0-372.46.1.el8_6.x86_64   \n",
       "150              100   cnfde30       8h  4.18.0-372.46.1.el8_6.x86_64   \n",
       "151              100   cnfde30       8h  4.18.0-372.46.1.el8_6.x86_64   \n",
       "152              100   cnfde30       8h  4.18.0-372.46.1.el8_6.x86_64   \n",
       "153              100   cnfde30       8h  4.18.0-372.46.1.el8_6.x86_64   \n",
       "\n",
       "    Sideloaded  \n",
       "0           No  \n",
       "1           No  \n",
       "2           No  \n",
       "3           No  \n",
       "4           No  \n",
       "..         ...  \n",
       "149         No  \n",
       "150         No  \n",
       "151         No  \n",
       "152         No  \n",
       "153         No  \n",
       "\n",
       "[154 rows x 13 columns]"
      ]
     },
     "execution_count": 45,
     "metadata": {},
     "output_type": "execute_result"
    }
   ],
   "source": [
    "availabilty_df"
   ]
  },
  {
   "cell_type": "code",
   "execution_count": 46,
   "metadata": {},
   "outputs": [],
   "source": [
    "grouped_availabilty = availabilty_df.groupby([\"Version\", \"OCP Version\"])"
   ]
  },
  {
   "cell_type": "code",
   "execution_count": 47,
   "metadata": {},
   "outputs": [
    {
     "name": "stdout",
     "output_type": "stream",
     "text": [
      "creating json file for ('4.11', '4.11.0-rc.5')\n",
      "creating json file for ('4.11', '4.11.6')\n",
      "creating json file for ('4.12', '4.12.0')\n",
      "creating json file for ('4.12', '4.12.0-0.nightly-2022-10-24-103753')\n",
      "creating json file for ('4.12', '4.12.0-0.nightly-2022-10-24-103753-spr')\n",
      "creating json file for ('4.12', '4.12.0-0.nightly-2022-10-24-103753-telco')\n",
      "creating json file for ('4.12', '4.12.0-rc.1')\n",
      "creating json file for ('4.12', '4.12.0-rc.7')\n",
      "creating json file for ('4.12', '4.12.6-SPR')\n",
      "creating json file for ('4.13', '4.13.0-0.ci.test-2023-03-02-214629-ci-ln-xw171tb-latest')\n",
      "creating json file for ('4.13', '4.13.0-0.nightly-2023-02-16-120330')\n"
     ]
    }
   ],
   "source": [
    "for version_key, threads in grouped_availabilty:\n",
    "    print(\"creating json file for {}\".format(version_key))\n",
    "    threads = threads.sort_values(by='Index', ascending=True)\n",
    "    results_dict = {}\n",
    "    results_dict[\"ocp_version\"] = threads[\"Version\"].values[0]\n",
    "    results_dict[\"ocp_build\"] = threads[\"OCP Version\"].values[0]\n",
    "    results_dict[\"test_type\"] = TEST_TYPE\n",
    "    results_dict[\"node_name\"] = threads[\"Cluster\"].values[0]\n",
    "    results_dict[\"duration\"] = threads[\"Duration\"].values[0]\n",
    "    results_dict[\"kernel\"] = threads[\"Kernel\"].values[0]\n",
    "    results_dict[\"sideloaded\"] = \"true\" if threads[\"Sideloaded\"].values[0] == \"Yes\" else \"false\" if threads[\"Sideloaded\"].values[0] == \"No\" else \"\" \n",
    "    results_dict[\"operator_version\"] = threads[\"Operator Version\"].values[0]\n",
    "\n",
    "    results_dict = extract_test_units(results_dict=results_dict, test_units_df=threads)\n",
    "    create_json(results_dict=results_dict, JSON_DIR=JSON_DIR)"
   ]
  },
  {
   "cell_type": "code",
   "execution_count": 41,
   "metadata": {},
   "outputs": [
    {
     "name": "stdout",
     "output_type": "stream",
     "text": [
      "pushing cyclictest-16771495664282587.json to splunk\n"
     ]
    },
    {
     "name": "stderr",
     "output_type": "stream",
     "text": [
      "/home/alugasi/tasks/google data studio/code/data/lib/python3.10/site-packages/urllib3/connectionpool.py:1045: InsecureRequestWarning: Unverified HTTPS request is being made to host 'splunk-hec.prod.utility-us-east-2.redhat.com'. Adding certificate verification is strongly advised. See: https://urllib3.readthedocs.io/en/1.26.x/advanced-usage.html#ssl-warnings\n",
      "  warnings.warn(\n"
     ]
    },
    {
     "name": "stdout",
     "output_type": "stream",
     "text": [
      "(200, '{\"text\":\"Success\",\"code\":0}', {'Date': 'Tue, 14 Mar 2023 09:10:13 GMT', 'Content-Type': 'application/json; charset=UTF-8', 'Content-Length': '27', 'Connection': 'keep-alive', 'Set-Cookie': 'AWSALB=5ygWzkHvWEjLx+sOSVO82gFANrJBw3w9DBxjq3T2WVEn5afW2Cz+VCZyy/iN87wCvyrbWdv20mme8DlIK2YI/6D9dq6xcLHHi7IXgCwGavnSCinUwHEzEc8tbwjW; Expires=Tue, 21 Mar 2023 09:10:13 GMT; Path=/, AWSALBCORS=5ygWzkHvWEjLx+sOSVO82gFANrJBw3w9DBxjq3T2WVEn5afW2Cz+VCZyy/iN87wCvyrbWdv20mme8DlIK2YI/6D9dq6xcLHHi7IXgCwGavnSCinUwHEzEc8tbwjW; Expires=Tue, 21 Mar 2023 09:10:13 GMT; Path=/; SameSite=None; Secure', 'X-Content-Type-Options': 'nosniff', 'Vary': 'Authorization', 'X-Frame-Options': 'SAMEORIGIN', 'Server': 'Splunkd'})\n",
      "pushing cyclictest-1678781760290857.json to splunk\n"
     ]
    },
    {
     "name": "stderr",
     "output_type": "stream",
     "text": [
      "/home/alugasi/tasks/google data studio/code/data/lib/python3.10/site-packages/urllib3/connectionpool.py:1045: InsecureRequestWarning: Unverified HTTPS request is being made to host 'splunk-hec.prod.utility-us-east-2.redhat.com'. Adding certificate verification is strongly advised. See: https://urllib3.readthedocs.io/en/1.26.x/advanced-usage.html#ssl-warnings\n",
      "  warnings.warn(\n"
     ]
    },
    {
     "name": "stdout",
     "output_type": "stream",
     "text": [
      "(200, '{\"text\":\"Success\",\"code\":0}', {'Date': 'Tue, 14 Mar 2023 09:10:14 GMT', 'Content-Type': 'application/json; charset=UTF-8', 'Content-Length': '27', 'Connection': 'keep-alive', 'Set-Cookie': 'AWSALB=0INK1zXbcftz3jY+InCP5DWkgSTy3MLPyuNRD6ZEQIHVhmO8LoQdVUJt3V/KUz7Sf6mnXAYyJDw4k3w8b4IAeL5QeigVBPUcsb95O6RkVfGx3zuLZiBYOgd7uDRd; Expires=Tue, 21 Mar 2023 09:10:14 GMT; Path=/, AWSALBCORS=0INK1zXbcftz3jY+InCP5DWkgSTy3MLPyuNRD6ZEQIHVhmO8LoQdVUJt3V/KUz7Sf6mnXAYyJDw4k3w8b4IAeL5QeigVBPUcsb95O6RkVfGx3zuLZiBYOgd7uDRd; Expires=Tue, 21 Mar 2023 09:10:14 GMT; Path=/; SameSite=None; Secure', 'X-Content-Type-Options': 'nosniff', 'Vary': 'Authorization', 'X-Frame-Options': 'SAMEORIGIN', 'Server': 'Splunkd'})\n",
      "pushing cyclictest-1678781760293547.json to splunk\n"
     ]
    },
    {
     "name": "stderr",
     "output_type": "stream",
     "text": [
      "/home/alugasi/tasks/google data studio/code/data/lib/python3.10/site-packages/urllib3/connectionpool.py:1045: InsecureRequestWarning: Unverified HTTPS request is being made to host 'splunk-hec.prod.utility-us-east-2.redhat.com'. Adding certificate verification is strongly advised. See: https://urllib3.readthedocs.io/en/1.26.x/advanced-usage.html#ssl-warnings\n",
      "  warnings.warn(\n"
     ]
    },
    {
     "name": "stdout",
     "output_type": "stream",
     "text": [
      "(200, '{\"text\":\"Success\",\"code\":0}', {'Date': 'Tue, 14 Mar 2023 09:10:16 GMT', 'Content-Type': 'application/json; charset=UTF-8', 'Content-Length': '27', 'Connection': 'keep-alive', 'Set-Cookie': 'AWSALB=ODJbRr/uGMjGJwG8yIpB3joXxEz9WRkqgKQpvWqI8IC9Kt65igzvECM2b2Z0x2GJv5Lb8ZdXdn15YIcBAsrCO379Rm/BNBvyrxBfWX+2Joc51jduNBERAhwKTK7Z; Expires=Tue, 21 Mar 2023 09:10:16 GMT; Path=/, AWSALBCORS=ODJbRr/uGMjGJwG8yIpB3joXxEz9WRkqgKQpvWqI8IC9Kt65igzvECM2b2Z0x2GJv5Lb8ZdXdn15YIcBAsrCO379Rm/BNBvyrxBfWX+2Joc51jduNBERAhwKTK7Z; Expires=Tue, 21 Mar 2023 09:10:16 GMT; Path=/; SameSite=None; Secure', 'X-Content-Type-Options': 'nosniff', 'Vary': 'Authorization', 'X-Frame-Options': 'SAMEORIGIN', 'Server': 'Splunkd'})\n",
      "pushing cyclictest-16787817602957199.json to splunk\n"
     ]
    },
    {
     "name": "stderr",
     "output_type": "stream",
     "text": [
      "/home/alugasi/tasks/google data studio/code/data/lib/python3.10/site-packages/urllib3/connectionpool.py:1045: InsecureRequestWarning: Unverified HTTPS request is being made to host 'splunk-hec.prod.utility-us-east-2.redhat.com'. Adding certificate verification is strongly advised. See: https://urllib3.readthedocs.io/en/1.26.x/advanced-usage.html#ssl-warnings\n",
      "  warnings.warn(\n"
     ]
    },
    {
     "name": "stdout",
     "output_type": "stream",
     "text": [
      "(200, '{\"text\":\"Success\",\"code\":0}', {'Date': 'Tue, 14 Mar 2023 09:10:17 GMT', 'Content-Type': 'application/json; charset=UTF-8', 'Content-Length': '27', 'Connection': 'keep-alive', 'Set-Cookie': 'AWSALB=Y6B2T+3AQFkHBQBXBLloJ1b1wJTAWnKF3EVmEaTIYeqblTlZ4XYL6N1jxz+cK8kRAZ8g/ulc9ot7DpNd9qKvCgTFe2/OkBVTsQmnnzNolXvUa8fNUhD9pnp7hJHv; Expires=Tue, 21 Mar 2023 09:10:17 GMT; Path=/, AWSALBCORS=Y6B2T+3AQFkHBQBXBLloJ1b1wJTAWnKF3EVmEaTIYeqblTlZ4XYL6N1jxz+cK8kRAZ8g/ulc9ot7DpNd9qKvCgTFe2/OkBVTsQmnnzNolXvUa8fNUhD9pnp7hJHv; Expires=Tue, 21 Mar 2023 09:10:17 GMT; Path=/; SameSite=None; Secure', 'X-Content-Type-Options': 'nosniff', 'Vary': 'Authorization', 'X-Frame-Options': 'SAMEORIGIN', 'Server': 'Splunkd'})\n",
      "pushing cyclictest-16787817602978027.json to splunk\n"
     ]
    },
    {
     "name": "stderr",
     "output_type": "stream",
     "text": [
      "/home/alugasi/tasks/google data studio/code/data/lib/python3.10/site-packages/urllib3/connectionpool.py:1045: InsecureRequestWarning: Unverified HTTPS request is being made to host 'splunk-hec.prod.utility-us-east-2.redhat.com'. Adding certificate verification is strongly advised. See: https://urllib3.readthedocs.io/en/1.26.x/advanced-usage.html#ssl-warnings\n",
      "  warnings.warn(\n"
     ]
    },
    {
     "name": "stdout",
     "output_type": "stream",
     "text": [
      "(200, '{\"text\":\"Success\",\"code\":0}', {'Date': 'Tue, 14 Mar 2023 09:10:18 GMT', 'Content-Type': 'application/json; charset=UTF-8', 'Content-Length': '27', 'Connection': 'keep-alive', 'Set-Cookie': 'AWSALB=SshygekvkqZ5IwTmSSNn9rsvgmJ78oDh+wBwx2lUefXvddJkvbMqDeFs/ZJgkLMSiZ2KijhRN3IbaOpzSvUu66eWNVfKEA5bKJvnJvTYMraCLdMl3j9z8lqVWXLl; Expires=Tue, 21 Mar 2023 09:10:18 GMT; Path=/, AWSALBCORS=SshygekvkqZ5IwTmSSNn9rsvgmJ78oDh+wBwx2lUefXvddJkvbMqDeFs/ZJgkLMSiZ2KijhRN3IbaOpzSvUu66eWNVfKEA5bKJvnJvTYMraCLdMl3j9z8lqVWXLl; Expires=Tue, 21 Mar 2023 09:10:18 GMT; Path=/; SameSite=None; Secure', 'X-Content-Type-Options': 'nosniff', 'Vary': 'Authorization', 'X-Frame-Options': 'SAMEORIGIN', 'Server': 'Splunkd'})\n",
      "pushing cyclictest-1678781760299963.json to splunk\n"
     ]
    },
    {
     "name": "stderr",
     "output_type": "stream",
     "text": [
      "/home/alugasi/tasks/google data studio/code/data/lib/python3.10/site-packages/urllib3/connectionpool.py:1045: InsecureRequestWarning: Unverified HTTPS request is being made to host 'splunk-hec.prod.utility-us-east-2.redhat.com'. Adding certificate verification is strongly advised. See: https://urllib3.readthedocs.io/en/1.26.x/advanced-usage.html#ssl-warnings\n",
      "  warnings.warn(\n"
     ]
    },
    {
     "name": "stdout",
     "output_type": "stream",
     "text": [
      "(200, '{\"text\":\"Success\",\"code\":0}', {'Date': 'Tue, 14 Mar 2023 09:10:19 GMT', 'Content-Type': 'application/json; charset=UTF-8', 'Content-Length': '27', 'Connection': 'keep-alive', 'Set-Cookie': 'AWSALB=rf6yLQvKWuIU/3BhkSilxCeh736ZRQ5cP5KhhQEQiPh32M7ksF7hQiXGS1g7GvJBXrwFuTP1j1c2jJBSgriezv1tkn1uYJpSMtNE4xrkoELdfg4tZ2q2vHaCi2Ke; Expires=Tue, 21 Mar 2023 09:10:19 GMT; Path=/, AWSALBCORS=rf6yLQvKWuIU/3BhkSilxCeh736ZRQ5cP5KhhQEQiPh32M7ksF7hQiXGS1g7GvJBXrwFuTP1j1c2jJBSgriezv1tkn1uYJpSMtNE4xrkoELdfg4tZ2q2vHaCi2Ke; Expires=Tue, 21 Mar 2023 09:10:19 GMT; Path=/; SameSite=None; Secure', 'X-Content-Type-Options': 'nosniff', 'Vary': 'Authorization', 'X-Frame-Options': 'SAMEORIGIN', 'Server': 'Splunkd'})\n",
      "pushing cyclictest-167878176030199.json to splunk\n"
     ]
    },
    {
     "name": "stderr",
     "output_type": "stream",
     "text": [
      "/home/alugasi/tasks/google data studio/code/data/lib/python3.10/site-packages/urllib3/connectionpool.py:1045: InsecureRequestWarning: Unverified HTTPS request is being made to host 'splunk-hec.prod.utility-us-east-2.redhat.com'. Adding certificate verification is strongly advised. See: https://urllib3.readthedocs.io/en/1.26.x/advanced-usage.html#ssl-warnings\n",
      "  warnings.warn(\n"
     ]
    },
    {
     "name": "stdout",
     "output_type": "stream",
     "text": [
      "(200, '{\"text\":\"Success\",\"code\":0}', {'Date': 'Tue, 14 Mar 2023 09:10:20 GMT', 'Content-Type': 'application/json; charset=UTF-8', 'Content-Length': '27', 'Connection': 'keep-alive', 'Set-Cookie': 'AWSALB=7L8Kt2FifZexSFcslbWnLZmbsCSb0XIaREPMpYVowsnw3u2L8f4dIUATI0pKIWY3ncuDQPBG0s1HvWYZ0JOPcRKRTCb9HssZ+T8uGL0gsP9wU1w2v0exjSrf8K8f; Expires=Tue, 21 Mar 2023 09:10:20 GMT; Path=/, AWSALBCORS=7L8Kt2FifZexSFcslbWnLZmbsCSb0XIaREPMpYVowsnw3u2L8f4dIUATI0pKIWY3ncuDQPBG0s1HvWYZ0JOPcRKRTCb9HssZ+T8uGL0gsP9wU1w2v0exjSrf8K8f; Expires=Tue, 21 Mar 2023 09:10:20 GMT; Path=/; SameSite=None; Secure', 'X-Content-Type-Options': 'nosniff', 'Vary': 'Authorization', 'X-Frame-Options': 'SAMEORIGIN', 'Server': 'Splunkd'})\n",
      "pushing cyclictest-16787817603039145.json to splunk\n"
     ]
    },
    {
     "name": "stderr",
     "output_type": "stream",
     "text": [
      "/home/alugasi/tasks/google data studio/code/data/lib/python3.10/site-packages/urllib3/connectionpool.py:1045: InsecureRequestWarning: Unverified HTTPS request is being made to host 'splunk-hec.prod.utility-us-east-2.redhat.com'. Adding certificate verification is strongly advised. See: https://urllib3.readthedocs.io/en/1.26.x/advanced-usage.html#ssl-warnings\n",
      "  warnings.warn(\n"
     ]
    },
    {
     "name": "stdout",
     "output_type": "stream",
     "text": [
      "(200, '{\"text\":\"Success\",\"code\":0}', {'Date': 'Tue, 14 Mar 2023 09:10:21 GMT', 'Content-Type': 'application/json; charset=UTF-8', 'Content-Length': '27', 'Connection': 'keep-alive', 'Set-Cookie': 'AWSALB=3SoVxKbUzTP5lJKb136pmInkNUaE2/FhKwfxdqR8qSCezbMQhlcj2eZip7trc2FYgPItSltFpUnyMlHYUqLi6Lu31hH4HYD4ELf/pmXsu7Ae75CwLQtSMdmTQuhv; Expires=Tue, 21 Mar 2023 09:10:21 GMT; Path=/, AWSALBCORS=3SoVxKbUzTP5lJKb136pmInkNUaE2/FhKwfxdqR8qSCezbMQhlcj2eZip7trc2FYgPItSltFpUnyMlHYUqLi6Lu31hH4HYD4ELf/pmXsu7Ae75CwLQtSMdmTQuhv; Expires=Tue, 21 Mar 2023 09:10:21 GMT; Path=/; SameSite=None; Secure', 'X-Content-Type-Options': 'nosniff', 'Vary': 'Authorization', 'X-Frame-Options': 'SAMEORIGIN', 'Server': 'Splunkd'})\n",
      "pushing cyclictest-16787817603061633.json to splunk\n"
     ]
    },
    {
     "name": "stderr",
     "output_type": "stream",
     "text": [
      "/home/alugasi/tasks/google data studio/code/data/lib/python3.10/site-packages/urllib3/connectionpool.py:1045: InsecureRequestWarning: Unverified HTTPS request is being made to host 'splunk-hec.prod.utility-us-east-2.redhat.com'. Adding certificate verification is strongly advised. See: https://urllib3.readthedocs.io/en/1.26.x/advanced-usage.html#ssl-warnings\n",
      "  warnings.warn(\n"
     ]
    },
    {
     "name": "stdout",
     "output_type": "stream",
     "text": [
      "(200, '{\"text\":\"Success\",\"code\":0}', {'Date': 'Tue, 14 Mar 2023 09:10:22 GMT', 'Content-Type': 'application/json; charset=UTF-8', 'Content-Length': '27', 'Connection': 'keep-alive', 'Set-Cookie': 'AWSALB=xNu6u2mu66L9J8evqA1mkyQtSPLjKC2NUF1LQI1JEaG1MC+atpd2Om1wU5nx6aOAwe1MvOCkaZ/LGwZ1YgRNKm4N5/TyT6cXCJzq1hE4H9AAaEesu+yWmSHteVV/; Expires=Tue, 21 Mar 2023 09:10:22 GMT; Path=/, AWSALBCORS=xNu6u2mu66L9J8evqA1mkyQtSPLjKC2NUF1LQI1JEaG1MC+atpd2Om1wU5nx6aOAwe1MvOCkaZ/LGwZ1YgRNKm4N5/TyT6cXCJzq1hE4H9AAaEesu+yWmSHteVV/; Expires=Tue, 21 Mar 2023 09:10:22 GMT; Path=/; SameSite=None; Secure', 'X-Content-Type-Options': 'nosniff', 'Vary': 'Authorization', 'X-Frame-Options': 'SAMEORIGIN', 'Server': 'Splunkd'})\n",
      "pushing cyclictest-1678781760308734.json to splunk\n"
     ]
    },
    {
     "name": "stderr",
     "output_type": "stream",
     "text": [
      "/home/alugasi/tasks/google data studio/code/data/lib/python3.10/site-packages/urllib3/connectionpool.py:1045: InsecureRequestWarning: Unverified HTTPS request is being made to host 'splunk-hec.prod.utility-us-east-2.redhat.com'. Adding certificate verification is strongly advised. See: https://urllib3.readthedocs.io/en/1.26.x/advanced-usage.html#ssl-warnings\n",
      "  warnings.warn(\n"
     ]
    },
    {
     "name": "stdout",
     "output_type": "stream",
     "text": [
      "(200, '{\"text\":\"Success\",\"code\":0}', {'Date': 'Tue, 14 Mar 2023 09:10:23 GMT', 'Content-Type': 'application/json; charset=UTF-8', 'Content-Length': '27', 'Connection': 'keep-alive', 'Set-Cookie': 'AWSALB=nFujv2SFVJZM5dGv4Flq6QST9F33GmdPa4liao85cl0x4xMj1e2sC7k7X6JlcZMLuAeSPqkaYSrVlh8AGxrdgXT6GtUtwqss9t6/ENWoEhAzKVEmNV00gezyNcE5; Expires=Tue, 21 Mar 2023 09:10:23 GMT; Path=/, AWSALBCORS=nFujv2SFVJZM5dGv4Flq6QST9F33GmdPa4liao85cl0x4xMj1e2sC7k7X6JlcZMLuAeSPqkaYSrVlh8AGxrdgXT6GtUtwqss9t6/ENWoEhAzKVEmNV00gezyNcE5; Expires=Tue, 21 Mar 2023 09:10:23 GMT; Path=/; SameSite=None; Secure', 'X-Content-Type-Options': 'nosniff', 'Vary': 'Authorization', 'X-Frame-Options': 'SAMEORIGIN', 'Server': 'Splunkd'})\n",
      "pushing cyclictest-16787817603108943.json to splunk\n"
     ]
    },
    {
     "name": "stderr",
     "output_type": "stream",
     "text": [
      "/home/alugasi/tasks/google data studio/code/data/lib/python3.10/site-packages/urllib3/connectionpool.py:1045: InsecureRequestWarning: Unverified HTTPS request is being made to host 'splunk-hec.prod.utility-us-east-2.redhat.com'. Adding certificate verification is strongly advised. See: https://urllib3.readthedocs.io/en/1.26.x/advanced-usage.html#ssl-warnings\n",
      "  warnings.warn(\n"
     ]
    },
    {
     "name": "stdout",
     "output_type": "stream",
     "text": [
      "(200, '{\"text\":\"Success\",\"code\":0}', {'Date': 'Tue, 14 Mar 2023 09:10:24 GMT', 'Content-Type': 'application/json; charset=UTF-8', 'Content-Length': '27', 'Connection': 'keep-alive', 'Set-Cookie': 'AWSALB=Z1HAv39QCrtgsW4vtlT9noCm9PKYYF7K/951TKGAWil8Y22iUiLopwLEZGKiqRuhwPYtrOb3wH15uxyVlhxyBtGKK9yVpLbI6spouLWr8suqTfv7M3Wf0u61M6hJ; Expires=Tue, 21 Mar 2023 09:10:24 GMT; Path=/, AWSALBCORS=Z1HAv39QCrtgsW4vtlT9noCm9PKYYF7K/951TKGAWil8Y22iUiLopwLEZGKiqRuhwPYtrOb3wH15uxyVlhxyBtGKK9yVpLbI6spouLWr8suqTfv7M3Wf0u61M6hJ; Expires=Tue, 21 Mar 2023 09:10:24 GMT; Path=/; SameSite=None; Secure', 'X-Content-Type-Options': 'nosniff', 'Vary': 'Authorization', 'X-Frame-Options': 'SAMEORIGIN', 'Server': 'Splunkd'})\n",
      "pushing cyclictest-16787843904429975.json to splunk\n"
     ]
    },
    {
     "name": "stderr",
     "output_type": "stream",
     "text": [
      "/home/alugasi/tasks/google data studio/code/data/lib/python3.10/site-packages/urllib3/connectionpool.py:1045: InsecureRequestWarning: Unverified HTTPS request is being made to host 'splunk-hec.prod.utility-us-east-2.redhat.com'. Adding certificate verification is strongly advised. See: https://urllib3.readthedocs.io/en/1.26.x/advanced-usage.html#ssl-warnings\n",
      "  warnings.warn(\n"
     ]
    },
    {
     "name": "stdout",
     "output_type": "stream",
     "text": [
      "(200, '{\"text\":\"Success\",\"code\":0}', {'Date': 'Tue, 14 Mar 2023 09:10:25 GMT', 'Content-Type': 'application/json; charset=UTF-8', 'Content-Length': '27', 'Connection': 'keep-alive', 'Set-Cookie': 'AWSALB=it/rfGnmMqYMQeqb/dl+fAZwqjdscuJk6/2L3eSwdz1Jf7iAJKCrO/21SmEq6ddhuStSFHguACPP034D2KOPrHWQnS/ArPhcAefth+qWzQzEv9vxmc5uEDlQG+Hq; Expires=Tue, 21 Mar 2023 09:10:25 GMT; Path=/, AWSALBCORS=it/rfGnmMqYMQeqb/dl+fAZwqjdscuJk6/2L3eSwdz1Jf7iAJKCrO/21SmEq6ddhuStSFHguACPP034D2KOPrHWQnS/ArPhcAefth+qWzQzEv9vxmc5uEDlQG+Hq; Expires=Tue, 21 Mar 2023 09:10:25 GMT; Path=/; SameSite=None; Secure', 'X-Content-Type-Options': 'nosniff', 'Vary': 'Authorization', 'X-Frame-Options': 'SAMEORIGIN', 'Server': 'Splunkd'})\n",
      "pushing cyclictest-1678784390445315.json to splunk\n"
     ]
    },
    {
     "name": "stderr",
     "output_type": "stream",
     "text": [
      "/home/alugasi/tasks/google data studio/code/data/lib/python3.10/site-packages/urllib3/connectionpool.py:1045: InsecureRequestWarning: Unverified HTTPS request is being made to host 'splunk-hec.prod.utility-us-east-2.redhat.com'. Adding certificate verification is strongly advised. See: https://urllib3.readthedocs.io/en/1.26.x/advanced-usage.html#ssl-warnings\n",
      "  warnings.warn(\n"
     ]
    },
    {
     "name": "stdout",
     "output_type": "stream",
     "text": [
      "(200, '{\"text\":\"Success\",\"code\":0}', {'Date': 'Tue, 14 Mar 2023 09:10:27 GMT', 'Content-Type': 'application/json; charset=UTF-8', 'Content-Length': '27', 'Connection': 'keep-alive', 'Set-Cookie': 'AWSALB=UEUX45drb2bMcuhTVAjAXgKJNllAjISX00YZVQK9xYV4p4kGoLnWuMyGfbizh2hF76tAe/OeTKvkVk1pI2/UYuA6mvjpe3U2PV64hryK6hMxhw0Q1I7wt2QTQpsT; Expires=Tue, 21 Mar 2023 09:10:27 GMT; Path=/, AWSALBCORS=UEUX45drb2bMcuhTVAjAXgKJNllAjISX00YZVQK9xYV4p4kGoLnWuMyGfbizh2hF76tAe/OeTKvkVk1pI2/UYuA6mvjpe3U2PV64hryK6hMxhw0Q1I7wt2QTQpsT; Expires=Tue, 21 Mar 2023 09:10:27 GMT; Path=/; SameSite=None; Secure', 'X-Content-Type-Options': 'nosniff', 'Vary': 'Authorization', 'X-Frame-Options': 'SAMEORIGIN', 'Server': 'Splunkd'})\n",
      "pushing cyclictest-16787843904474535.json to splunk\n"
     ]
    },
    {
     "name": "stderr",
     "output_type": "stream",
     "text": [
      "/home/alugasi/tasks/google data studio/code/data/lib/python3.10/site-packages/urllib3/connectionpool.py:1045: InsecureRequestWarning: Unverified HTTPS request is being made to host 'splunk-hec.prod.utility-us-east-2.redhat.com'. Adding certificate verification is strongly advised. See: https://urllib3.readthedocs.io/en/1.26.x/advanced-usage.html#ssl-warnings\n",
      "  warnings.warn(\n"
     ]
    },
    {
     "name": "stdout",
     "output_type": "stream",
     "text": [
      "(200, '{\"text\":\"Success\",\"code\":0}', {'Date': 'Tue, 14 Mar 2023 09:10:27 GMT', 'Content-Type': 'application/json; charset=UTF-8', 'Content-Length': '27', 'Connection': 'keep-alive', 'Set-Cookie': 'AWSALB=3tlynb7A6WttdObDjCNEw6h+Ni+SQFBCMsK8ngitQLH+r40JhgB6WRHUFBStjZjoQLVNw/i0o0IyUmiRWtxDIsSk/SrgNikU4T11tIP358sprAWlugzOftc0YKVB; Expires=Tue, 21 Mar 2023 09:10:27 GMT; Path=/, AWSALBCORS=3tlynb7A6WttdObDjCNEw6h+Ni+SQFBCMsK8ngitQLH+r40JhgB6WRHUFBStjZjoQLVNw/i0o0IyUmiRWtxDIsSk/SrgNikU4T11tIP358sprAWlugzOftc0YKVB; Expires=Tue, 21 Mar 2023 09:10:27 GMT; Path=/; SameSite=None; Secure', 'X-Content-Type-Options': 'nosniff', 'Vary': 'Authorization', 'X-Frame-Options': 'SAMEORIGIN', 'Server': 'Splunkd'})\n",
      "pushing cyclictest-16787843904495687.json to splunk\n"
     ]
    },
    {
     "name": "stderr",
     "output_type": "stream",
     "text": [
      "/home/alugasi/tasks/google data studio/code/data/lib/python3.10/site-packages/urllib3/connectionpool.py:1045: InsecureRequestWarning: Unverified HTTPS request is being made to host 'splunk-hec.prod.utility-us-east-2.redhat.com'. Adding certificate verification is strongly advised. See: https://urllib3.readthedocs.io/en/1.26.x/advanced-usage.html#ssl-warnings\n",
      "  warnings.warn(\n"
     ]
    },
    {
     "name": "stdout",
     "output_type": "stream",
     "text": [
      "(200, '{\"text\":\"Success\",\"code\":0}', {'Date': 'Tue, 14 Mar 2023 09:10:28 GMT', 'Content-Type': 'application/json; charset=UTF-8', 'Content-Length': '27', 'Connection': 'keep-alive', 'Set-Cookie': 'AWSALB=Hkulp9Div0eA87/M3KDx9b8Wu10FDfFcnaYWpW9jCvuDAp9DJZjk7SUELKKi29yeCjhNHngAtaVCzCd3YTN3uqAP/BwI3LTaE7OTK3J8PT+V+uk/qm1wMDxpANEw; Expires=Tue, 21 Mar 2023 09:10:28 GMT; Path=/, AWSALBCORS=Hkulp9Div0eA87/M3KDx9b8Wu10FDfFcnaYWpW9jCvuDAp9DJZjk7SUELKKi29yeCjhNHngAtaVCzCd3YTN3uqAP/BwI3LTaE7OTK3J8PT+V+uk/qm1wMDxpANEw; Expires=Tue, 21 Mar 2023 09:10:28 GMT; Path=/; SameSite=None; Secure', 'X-Content-Type-Options': 'nosniff', 'Vary': 'Authorization', 'X-Frame-Options': 'SAMEORIGIN', 'Server': 'Splunkd'})\n",
      "pushing cyclictest-16787843904519155.json to splunk\n"
     ]
    },
    {
     "name": "stderr",
     "output_type": "stream",
     "text": [
      "/home/alugasi/tasks/google data studio/code/data/lib/python3.10/site-packages/urllib3/connectionpool.py:1045: InsecureRequestWarning: Unverified HTTPS request is being made to host 'splunk-hec.prod.utility-us-east-2.redhat.com'. Adding certificate verification is strongly advised. See: https://urllib3.readthedocs.io/en/1.26.x/advanced-usage.html#ssl-warnings\n",
      "  warnings.warn(\n"
     ]
    },
    {
     "name": "stdout",
     "output_type": "stream",
     "text": [
      "(200, '{\"text\":\"Success\",\"code\":0}', {'Date': 'Tue, 14 Mar 2023 09:10:29 GMT', 'Content-Type': 'application/json; charset=UTF-8', 'Content-Length': '27', 'Connection': 'keep-alive', 'Set-Cookie': 'AWSALB=kxtxMVUdsA9k5K6YnpFvKAGH38/qI7IYCAjS0wNQRSV0mgUPM9Scg1Ay6qaWljC6eorKzHfeL4g88BDZR9qvrmcD8a9PscUXcna8gcZIRxI2171FIcMhJv3VdZOK; Expires=Tue, 21 Mar 2023 09:10:29 GMT; Path=/, AWSALBCORS=kxtxMVUdsA9k5K6YnpFvKAGH38/qI7IYCAjS0wNQRSV0mgUPM9Scg1Ay6qaWljC6eorKzHfeL4g88BDZR9qvrmcD8a9PscUXcna8gcZIRxI2171FIcMhJv3VdZOK; Expires=Tue, 21 Mar 2023 09:10:29 GMT; Path=/; SameSite=None; Secure', 'X-Content-Type-Options': 'nosniff', 'Vary': 'Authorization', 'X-Frame-Options': 'SAMEORIGIN', 'Server': 'Splunkd'})\n",
      "pushing cyclictest-167878439045433.json to splunk\n"
     ]
    },
    {
     "name": "stderr",
     "output_type": "stream",
     "text": [
      "/home/alugasi/tasks/google data studio/code/data/lib/python3.10/site-packages/urllib3/connectionpool.py:1045: InsecureRequestWarning: Unverified HTTPS request is being made to host 'splunk-hec.prod.utility-us-east-2.redhat.com'. Adding certificate verification is strongly advised. See: https://urllib3.readthedocs.io/en/1.26.x/advanced-usage.html#ssl-warnings\n",
      "  warnings.warn(\n"
     ]
    },
    {
     "name": "stdout",
     "output_type": "stream",
     "text": [
      "(200, '{\"text\":\"Success\",\"code\":0}', {'Date': 'Tue, 14 Mar 2023 09:10:30 GMT', 'Content-Type': 'application/json; charset=UTF-8', 'Content-Length': '27', 'Connection': 'keep-alive', 'Set-Cookie': 'AWSALB=Qi30BKHV0uW/w4LvKs9X2Gftbw4XKRowtS7MygvA8lcGevZvsNL6XncJP8xZgAQOMGN+y/cWgjknfGYVORfHtc9btoWNPNSEPpMWOaYgB7NJ02EW/sNsH8QwMXbB; Expires=Tue, 21 Mar 2023 09:10:30 GMT; Path=/, AWSALBCORS=Qi30BKHV0uW/w4LvKs9X2Gftbw4XKRowtS7MygvA8lcGevZvsNL6XncJP8xZgAQOMGN+y/cWgjknfGYVORfHtc9btoWNPNSEPpMWOaYgB7NJ02EW/sNsH8QwMXbB; Expires=Tue, 21 Mar 2023 09:10:30 GMT; Path=/; SameSite=None; Secure', 'X-Content-Type-Options': 'nosniff', 'Vary': 'Authorization', 'X-Frame-Options': 'SAMEORIGIN', 'Server': 'Splunkd'})\n",
      "pushing cyclictest-16787843904565845.json to splunk\n"
     ]
    },
    {
     "name": "stderr",
     "output_type": "stream",
     "text": [
      "/home/alugasi/tasks/google data studio/code/data/lib/python3.10/site-packages/urllib3/connectionpool.py:1045: InsecureRequestWarning: Unverified HTTPS request is being made to host 'splunk-hec.prod.utility-us-east-2.redhat.com'. Adding certificate verification is strongly advised. See: https://urllib3.readthedocs.io/en/1.26.x/advanced-usage.html#ssl-warnings\n",
      "  warnings.warn(\n"
     ]
    },
    {
     "name": "stdout",
     "output_type": "stream",
     "text": [
      "(200, '{\"text\":\"Success\",\"code\":0}', {'Date': 'Tue, 14 Mar 2023 09:10:31 GMT', 'Content-Type': 'application/json; charset=UTF-8', 'Content-Length': '27', 'Connection': 'keep-alive', 'Set-Cookie': 'AWSALB=Ami7wchEafr2b1meCRtuFDSklK3GkXTiX2rg9VL9VM6njJXrmj4UZ16wYNYkXEZvXDt24teehOm6XiDyiyIpfG11+9H6l4pEjtpZGHWH6LUPItk6hv2GyJylwpg4; Expires=Tue, 21 Mar 2023 09:10:31 GMT; Path=/, AWSALBCORS=Ami7wchEafr2b1meCRtuFDSklK3GkXTiX2rg9VL9VM6njJXrmj4UZ16wYNYkXEZvXDt24teehOm6XiDyiyIpfG11+9H6l4pEjtpZGHWH6LUPItk6hv2GyJylwpg4; Expires=Tue, 21 Mar 2023 09:10:31 GMT; Path=/; SameSite=None; Secure', 'X-Content-Type-Options': 'nosniff', 'Vary': 'Authorization', 'X-Frame-Options': 'SAMEORIGIN', 'Server': 'Splunkd'})\n",
      "pushing cyclictest-16787843904580173.json to splunk\n"
     ]
    },
    {
     "name": "stderr",
     "output_type": "stream",
     "text": [
      "/home/alugasi/tasks/google data studio/code/data/lib/python3.10/site-packages/urllib3/connectionpool.py:1045: InsecureRequestWarning: Unverified HTTPS request is being made to host 'splunk-hec.prod.utility-us-east-2.redhat.com'. Adding certificate verification is strongly advised. See: https://urllib3.readthedocs.io/en/1.26.x/advanced-usage.html#ssl-warnings\n",
      "  warnings.warn(\n"
     ]
    },
    {
     "name": "stdout",
     "output_type": "stream",
     "text": [
      "(200, '{\"text\":\"Success\",\"code\":0}', {'Date': 'Tue, 14 Mar 2023 09:10:32 GMT', 'Content-Type': 'application/json; charset=UTF-8', 'Content-Length': '27', 'Connection': 'keep-alive', 'Set-Cookie': 'AWSALB=IRjoRaMZgFVoqqFzePzWXvI3cJ2H/jYyWUb7A9+y3UVlTSHuimomD6kkz1lAdQEQH05hIWBU5I4IMv18GXlBtmpWuZ2EPHlcEjJ1Jyk+P5K/PQSGM6DnXAhalQ8x; Expires=Tue, 21 Mar 2023 09:10:32 GMT; Path=/, AWSALBCORS=IRjoRaMZgFVoqqFzePzWXvI3cJ2H/jYyWUb7A9+y3UVlTSHuimomD6kkz1lAdQEQH05hIWBU5I4IMv18GXlBtmpWuZ2EPHlcEjJ1Jyk+P5K/PQSGM6DnXAhalQ8x; Expires=Tue, 21 Mar 2023 09:10:32 GMT; Path=/; SameSite=None; Secure', 'X-Content-Type-Options': 'nosniff', 'Vary': 'Authorization', 'X-Frame-Options': 'SAMEORIGIN', 'Server': 'Splunkd'})\n",
      "pushing cyclictest-16787843904595797.json to splunk\n"
     ]
    },
    {
     "name": "stderr",
     "output_type": "stream",
     "text": [
      "/home/alugasi/tasks/google data studio/code/data/lib/python3.10/site-packages/urllib3/connectionpool.py:1045: InsecureRequestWarning: Unverified HTTPS request is being made to host 'splunk-hec.prod.utility-us-east-2.redhat.com'. Adding certificate verification is strongly advised. See: https://urllib3.readthedocs.io/en/1.26.x/advanced-usage.html#ssl-warnings\n",
      "  warnings.warn(\n"
     ]
    },
    {
     "name": "stdout",
     "output_type": "stream",
     "text": [
      "(200, '{\"text\":\"Success\",\"code\":0}', {'Date': 'Tue, 14 Mar 2023 09:10:34 GMT', 'Content-Type': 'application/json; charset=UTF-8', 'Content-Length': '27', 'Connection': 'keep-alive', 'Set-Cookie': 'AWSALB=x2EaHfFgR4gQCWEtwLVkp6+TxhokpN2KVZ6vAsaHJhuVkGU7zFke8FdHfHiskL4MG17TA/ONm6O1NeZHyBflQx5giWO9TzvmV4sv135jifhsM6WNDiz1uGC17G6+; Expires=Tue, 21 Mar 2023 09:10:34 GMT; Path=/, AWSALBCORS=x2EaHfFgR4gQCWEtwLVkp6+TxhokpN2KVZ6vAsaHJhuVkGU7zFke8FdHfHiskL4MG17TA/ONm6O1NeZHyBflQx5giWO9TzvmV4sv135jifhsM6WNDiz1uGC17G6+; Expires=Tue, 21 Mar 2023 09:10:34 GMT; Path=/; SameSite=None; Secure', 'X-Content-Type-Options': 'nosniff', 'Vary': 'Authorization', 'X-Frame-Options': 'SAMEORIGIN', 'Server': 'Splunkd'})\n"
     ]
    }
   ],
   "source": [
    "json_files = list_files(\"ExtractTestsResults/JsonTestsFolders/oslats\")\n",
    "\n",
    "for file in json_files:\n",
    "    json_file_file = \"ExtractTestsResults/JsonTestsFolders/oslats/\" + file\n",
    "    cmd = ['python3', 'splunkHecPush.py',  '-j', json_file_file, '-i', 'ecosystem-qe-dev', '-t' ,'94eeb2f9-8e5f-4c86-adec-336b3368c74e']\n",
    "    print(\"pushing {} to splunk\".format(file))\n",
    "    run(cmd)"
   ]
  }
 ],
 "metadata": {
  "kernelspec": {
   "display_name": "Python 3.10.6 ('data': venv)",
   "language": "python",
   "name": "python3"
  },
  "language_info": {
   "codemirror_mode": {
    "name": "ipython",
    "version": 3
   },
   "file_extension": ".py",
   "mimetype": "text/x-python",
   "name": "python",
   "nbconvert_exporter": "python",
   "pygments_lexer": "ipython3",
   "version": "3.10.6"
  },
  "orig_nbformat": 4,
  "vscode": {
   "interpreter": {
    "hash": "36996c97f3a513c7539113157ff2a07191b199a8c1a7349bbd76d49dcb155f46"
   }
  }
 },
 "nbformat": 4,
 "nbformat_minor": 2
}
